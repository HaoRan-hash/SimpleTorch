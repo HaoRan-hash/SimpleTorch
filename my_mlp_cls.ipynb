{
 "cells": [
  {
   "cell_type": "code",
   "execution_count": 1,
   "metadata": {},
   "outputs": [],
   "source": [
    "import numpy as np\n",
    "import matplotlib.pyplot as plt\n",
    "from tqdm.notebook import tqdm\n",
    "import math\n",
    "from SimpleTorch import Tensor, no_grad\n",
    "from SimpleTorch.data_tools import Dataset, DataLoader\n",
    "from SimpleTorch.operators import ReLU, CrossEntropyLoss\n",
    "from SimpleTorch.modules import Module, Linear, Sequential\n",
    "from SimpleTorch.optim import SGD\n",
    "import codecs\n",
    "from functools import reduce\n"
   ]
  },
  {
   "cell_type": "markdown",
   "metadata": {},
   "source": [
    "---\n",
    "## 准备数据"
   ]
  },
  {
   "cell_type": "code",
   "execution_count": 2,
   "metadata": {},
   "outputs": [],
   "source": [
    "SN3_PASCALVINCENT_TYPEMAP = {\n",
    "    8: (np.uint8, np.uint8),\n",
    "    9: (np.int8, np.int8),\n",
    "    11: (np.dtype('>i2'), 'i2'),\n",
    "    12: (np.dtype('>i4'), 'i4'),\n",
    "    13: (np.dtype('>f4'), 'f4'),\n",
    "    14: (np.dtype('>f8'), 'f8')\n",
    "}"
   ]
  },
  {
   "cell_type": "code",
   "execution_count": 3,
   "metadata": {},
   "outputs": [],
   "source": [
    "class MNIST(Dataset):\n",
    "    def __init__(self, image_path, label_path):\n",
    "        super(MNIST, self).__init__()\n",
    "        images = self.read_file(image_path)\n",
    "        labels = self.read_file(label_path)\n",
    "\n",
    "        # 将images处理成0~1的float类型\n",
    "        self.images = images / 255\n",
    "\n",
    "        # 将label从index处理成one-hot\n",
    "        self.labels = np.zeros((len(labels), labels.max() + 1))\n",
    "        self.labels[np.arange(len(labels)), labels] = 1\n",
    "    \n",
    "    def __len__(self):\n",
    "        return len(self.images)\n",
    "    \n",
    "    def __getitem__(self, index):\n",
    "        return self.images[index], self.labels[index]\n",
    "    \n",
    "    def _get_int(self, b):\n",
    "        return int(codecs.encode(b, 'hex'), 16)\n",
    "    \n",
    "    def read_file(self, path):\n",
    "        with open(path, 'rb') as f:\n",
    "            data = f.read()\n",
    "        \n",
    "        magic = self._get_int(data[0:4])\n",
    "        nd = magic % 256\n",
    "        ty = magic // 256\n",
    "\n",
    "        m = SN3_PASCALVINCENT_TYPEMAP[ty]\n",
    "        s = [self._get_int(data[4 * (i + 1): 4 * (i + 2)]) for i in range(nd)]\n",
    "        parsed = np.frombuffer(data, dtype=m[0], offset=(4 * (nd + 1)))\n",
    "        parsed = np.reshape(parsed, s).astype(m[1])\n",
    "\n",
    "        return parsed"
   ]
  },
  {
   "cell_type": "code",
   "execution_count": 4,
   "metadata": {},
   "outputs": [],
   "source": [
    "train_dataset = MNIST('MNIST/train-images-idx3-ubyte', 'MNIST/train-labels-idx1-ubyte')\n",
    "test_dataset = MNIST('MNIST/t10k-images-idx3-ubyte', 'MNIST/t10k-labels-idx1-ubyte')"
   ]
  },
  {
   "cell_type": "code",
   "execution_count": 5,
   "metadata": {},
   "outputs": [
    {
     "name": "stdout",
     "output_type": "stream",
     "text": [
      "60000 10000\n"
     ]
    }
   ],
   "source": [
    "print(len(train_dataset), len(test_dataset))"
   ]
  },
  {
   "cell_type": "code",
   "execution_count": 6,
   "metadata": {},
   "outputs": [
    {
     "name": "stdout",
     "output_type": "stream",
     "text": [
      "(28, 28) (10,)\n",
      "[0. 0. 0. 0. 0. 1. 0. 0. 0. 0.]\n"
     ]
    }
   ],
   "source": [
    "image, label = train_dataset[0]\n",
    "print(image.shape, label.shape)\n",
    "print(label)"
   ]
  },
  {
   "cell_type": "code",
   "execution_count": 7,
   "metadata": {},
   "outputs": [],
   "source": [
    "train_dataloader = DataLoader(train_dataset, batch_size=50, shuffle=True)\n",
    "test_dataloader = DataLoader(test_dataset, batch_size=50)"
   ]
  },
  {
   "cell_type": "code",
   "execution_count": 8,
   "metadata": {},
   "outputs": [
    {
     "name": "stdout",
     "output_type": "stream",
     "text": [
      "<class 'list'> 2\n",
      "<class 'numpy.ndarray'> <class 'numpy.ndarray'>\n"
     ]
    }
   ],
   "source": [
    "temp = next(iter(train_dataloader))\n",
    "print(type(temp), len(temp))\n",
    "print(type(temp[0]), type(temp[1]))"
   ]
  },
  {
   "cell_type": "markdown",
   "metadata": {},
   "source": [
    "---\n",
    "### 可视化数据看一眼"
   ]
  },
  {
   "cell_type": "code",
   "execution_count": 9,
   "metadata": {},
   "outputs": [
    {
     "data": {
      "image/png": "[encoded data removed]",
      "text/plain": [
       "<Figure size 432x288 with 8 Axes>"
      ]
     },
     "metadata": {
      "needs_background": "light"
     },
     "output_type": "display_data"
    }
   ],
   "source": [
    "images = [train_dataset[i][0] for i in range(16, 24)]\n",
    "\n",
    "for i in range(2):\n",
    "    for j in range(4):\n",
    "        plt.subplot(2, 4, i * 4 + j + 1)\n",
    "        plt.imshow(images[i * 4 + j], cmap='gray')\n",
    "        plt.axis('off')\n",
    "plt.show()"
   ]
  },
  {
   "cell_type": "markdown",
   "metadata": {},
   "source": [
    "---\n",
    "## 模型部分"
   ]
  },
  {
   "cell_type": "code",
   "execution_count": 10,
   "metadata": {},
   "outputs": [],
   "source": [
    "class MLP(Module):\n",
    "    def __init__(self, input_shape, class_num, layer_num, units):\n",
    "        super(MLP, self).__init__()\n",
    "        \n",
    "        temp = reduce(lambda x, y: x * y, input_shape, 1)\n",
    "        layers = []\n",
    "        for i in range(layer_num):\n",
    "            if i == 0:\n",
    "                layers += [Linear(temp, units[i]),\n",
    "                            ReLU()]\n",
    "            else:\n",
    "                layers += [Linear(units[i - 1], units[i]),\n",
    "                            ReLU()]\n",
    "        layers += [Linear(units[-1], class_num)]\n",
    "        \n",
    "        self.layers = Sequential(*layers)\n",
    "    \n",
    "    def forward(self, x):\n",
    "        y = self.layers(x)\n",
    "\n",
    "        return y"
   ]
  },
  {
   "cell_type": "code",
   "execution_count": 11,
   "metadata": {},
   "outputs": [],
   "source": [
    "def get_accuracy(y_pred, y):\n",
    "    \"\"\"\n",
    "    type(y_pred): ndarray\n",
    "    type(y): ndarray\n",
    "    rtype: float\n",
    "    \"\"\"\n",
    "    if y_pred.shape != y.shape:\n",
    "        raise RuntimeError(f'y_pred.shape must be same as y.shape')\n",
    "    \n",
    "    total_num = len(y_pred)\n",
    "    temp1 = y_pred.argmax(axis=1)\n",
    "    temp2 = y.argmax(axis=1)\n",
    "\n",
    "    acc = (temp1 == temp2).sum() / total_num\n",
    "\n",
    "    return acc"
   ]
  },
  {
   "cell_type": "code",
   "execution_count": 12,
   "metadata": {},
   "outputs": [],
   "source": [
    "def train_loop(dataloader, model, loss_fn, optimizer, total_epoch, cur_epoch):\n",
    "    pbar = tqdm(dataloader, desc=f'Epoch {cur_epoch}/{total_epoch}', unit='batch')\n",
    "\n",
    "    for i, (x, y) in enumerate(pbar):\n",
    "        x = Tensor(np.reshape(x, (len(x), -1)))\n",
    "        y = Tensor(y)\n",
    "\n",
    "        optimizer.zero_grad()\n",
    "        y_pred = model(x)\n",
    "        loss = loss_fn(y_pred, y)\n",
    "        loss.backward()\n",
    "        optimizer.step()\n",
    "\n",
    "        acc = get_accuracy(y_pred.data, y.data)\n",
    "\n",
    "        if i % 5 == 0:\n",
    "            pbar.set_postfix_str(f'loss={loss.data.item():.4f}, acc={acc:.4f}')"
   ]
  },
  {
   "cell_type": "code",
   "execution_count": 13,
   "metadata": {},
   "outputs": [],
   "source": [
    "def test_loop(dataloader, model, loss_fn):\n",
    "    steps = len(dataloader)\n",
    "    loss = 0.0\n",
    "    acc = 0.0\n",
    "    \n",
    "    with no_grad():\n",
    "        for x, y in dataloader:\n",
    "            x = Tensor(np.reshape(x, (len(x), -1)))\n",
    "            y = Tensor(y)\n",
    "\n",
    "            y_pred = model(x)\n",
    "            loss += loss_fn(y_pred, y).data.item()\n",
    "\n",
    "            acc += get_accuracy(y_pred.data, y.data)\n",
    "    \n",
    "    loss = loss / steps\n",
    "    acc = acc / steps\n",
    "\n",
    "    print(f'test_loss={loss:.4f}, test_acc={acc:.4f}')"
   ]
  },
  {
   "cell_type": "markdown",
   "metadata": {},
   "source": [
    "---\n",
    "## 开始训练"
   ]
  },
  {
   "cell_type": "code",
   "execution_count": 14,
   "metadata": {},
   "outputs": [
    {
     "name": "stdout",
     "output_type": "stream",
     "text": [
      "<__main__.MLP object at 0x000001A33C974040>\n"
     ]
    }
   ],
   "source": [
    "mlp = MLP(train_dataset[0][0].shape, 10, 1, [512])\n",
    "print(mlp)"
   ]
  },
  {
   "cell_type": "code",
   "execution_count": 15,
   "metadata": {},
   "outputs": [
    {
     "name": "stdout",
     "output_type": "stream",
     "text": [
      "layers_0_weight (512, 784) float64\n",
      "layers_0_bias (512,) float64\n",
      "layers_2_weight (10, 512) float64\n",
      "layers_2_bias (10,) float64\n"
     ]
    }
   ],
   "source": [
    "for name, param in mlp.parameters:\n",
    "    print(name, param.data.shape, param.data.dtype)"
   ]
  },
  {
   "cell_type": "code",
   "execution_count": 16,
   "metadata": {},
   "outputs": [],
   "source": [
    "loss_fn = CrossEntropyLoss()\n",
    "optimizer = SGD(mlp.parameters, lr=0.09)"
   ]
  },
  {
   "cell_type": "code",
   "execution_count": 17,
   "metadata": {},
   "outputs": [
    {
     "data": {
      "application/vnd.jupyter.widget-view+json": {
       "model_id": "b0de3e19dae44b54a2205b8ee59b9454",
       "version_major": 2,
       "version_minor": 0
      },
      "text/plain": [
       "Epoch 0/20:   0%|          | 0/1200 [00:00<?, ?batch/s]"
      ]
     },
     "metadata": {},
     "output_type": "display_data"
    },
    {
     "name": "stdout",
     "output_type": "stream",
     "text": [
      "test_loss=0.2256, test_acc=0.9347\n"
     ]
    },
    {
     "data": {
      "application/vnd.jupyter.widget-view+json": {
       "model_id": "e4fa0d7200b44521bb71bb9c7ac245c4",
       "version_major": 2,
       "version_minor": 0
      },
      "text/plain": [
       "Epoch 1/20:   0%|          | 0/1200 [00:00<?, ?batch/s]"
      ]
     },
     "metadata": {},
     "output_type": "display_data"
    },
    {
     "name": "stdout",
     "output_type": "stream",
     "text": [
      "test_loss=0.1612, test_acc=0.9523\n"
     ]
    },
    {
     "data": {
      "application/vnd.jupyter.widget-view+json": {
       "model_id": "40fe4ccb5f4148c2b9eb5977795fcea6",
       "version_major": 2,
       "version_minor": 0
      },
      "text/plain": [
       "Epoch 2/20:   0%|          | 0/1200 [00:00<?, ?batch/s]"
      ]
     },
     "metadata": {},
     "output_type": "display_data"
    },
    {
     "name": "stdout",
     "output_type": "stream",
     "text": [
      "test_loss=0.1223, test_acc=0.9635\n"
     ]
    },
    {
     "data": {
      "application/vnd.jupyter.widget-view+json": {
       "model_id": "6218cc86b71c4db3ba347d4adee69484",
       "version_major": 2,
       "version_minor": 0
      },
      "text/plain": [
       "Epoch 3/20:   0%|          | 0/1200 [00:00<?, ?batch/s]"
      ]
     },
     "metadata": {},
     "output_type": "display_data"
    },
    {
     "name": "stdout",
     "output_type": "stream",
     "text": [
      "test_loss=0.1040, test_acc=0.9699\n"
     ]
    },
    {
     "data": {
      "application/vnd.jupyter.widget-view+json": {
       "model_id": "d6e1f5437e0e49b2ae79c49567e1a332",
       "version_major": 2,
       "version_minor": 0
      },
      "text/plain": [
       "Epoch 4/20:   0%|          | 0/1200 [00:00<?, ?batch/s]"
      ]
     },
     "metadata": {},
     "output_type": "display_data"
    },
    {
     "name": "stdout",
     "output_type": "stream",
     "text": [
      "test_loss=0.0946, test_acc=0.9718\n"
     ]
    },
    {
     "data": {
      "application/vnd.jupyter.widget-view+json": {
       "model_id": "0a52d0b421b145b78439af787241d36d",
       "version_major": 2,
       "version_minor": 0
      },
      "text/plain": [
       "Epoch 5/20:   0%|          | 0/1200 [00:00<?, ?batch/s]"
      ]
     },
     "metadata": {},
     "output_type": "display_data"
    },
    {
     "name": "stdout",
     "output_type": "stream",
     "text": [
      "test_loss=0.0851, test_acc=0.9750\n"
     ]
    },
    {
     "data": {
      "application/vnd.jupyter.widget-view+json": {
       "model_id": "66b1e57334364243ae9fe8fd74e393ec",
       "version_major": 2,
       "version_minor": 0
      },
      "text/plain": [
       "Epoch 6/20:   0%|          | 0/1200 [00:00<?, ?batch/s]"
      ]
     },
     "metadata": {},
     "output_type": "display_data"
    },
    {
     "name": "stdout",
     "output_type": "stream",
     "text": [
      "test_loss=0.0824, test_acc=0.9747\n"
     ]
    },
    {
     "data": {
      "application/vnd.jupyter.widget-view+json": {
       "model_id": "868ff6f50ce245c191c88aac1615d893",
       "version_major": 2,
       "version_minor": 0
      },
      "text/plain": [
       "Epoch 7/20:   0%|          | 0/1200 [00:00<?, ?batch/s]"
      ]
     },
     "metadata": {},
     "output_type": "display_data"
    },
    {
     "name": "stdout",
     "output_type": "stream",
     "text": [
      "test_loss=0.0759, test_acc=0.9776\n"
     ]
    },
    {
     "data": {
      "application/vnd.jupyter.widget-view+json": {
       "model_id": "ae712d281f064155a61e2d91aeb05b23",
       "version_major": 2,
       "version_minor": 0
      },
      "text/plain": [
       "Epoch 8/20:   0%|          | 0/1200 [00:00<?, ?batch/s]"
      ]
     },
     "metadata": {},
     "output_type": "display_data"
    },
    {
     "name": "stdout",
     "output_type": "stream",
     "text": [
      "test_loss=0.0782, test_acc=0.9766\n"
     ]
    },
    {
     "data": {
      "application/vnd.jupyter.widget-view+json": {
       "model_id": "1bcf1b0625364ceba1c429f4d39ea101",
       "version_major": 2,
       "version_minor": 0
      },
      "text/plain": [
       "Epoch 9/20:   0%|          | 0/1200 [00:00<?, ?batch/s]"
      ]
     },
     "metadata": {},
     "output_type": "display_data"
    },
    {
     "name": "stdout",
     "output_type": "stream",
     "text": [
      "test_loss=0.0687, test_acc=0.9792\n"
     ]
    },
    {
     "data": {
      "application/vnd.jupyter.widget-view+json": {
       "model_id": "42b2520bca864833aad4182d94c1ce3c",
       "version_major": 2,
       "version_minor": 0
      },
      "text/plain": [
       "Epoch 10/20:   0%|          | 0/1200 [00:00<?, ?batch/s]"
      ]
     },
     "metadata": {},
     "output_type": "display_data"
    },
    {
     "name": "stdout",
     "output_type": "stream",
     "text": [
      "test_loss=0.0706, test_acc=0.9788\n"
     ]
    },
    {
     "data": {
      "application/vnd.jupyter.widget-view+json": {
       "model_id": "63be21bc176f4a32b49665cfae19093c",
       "version_major": 2,
       "version_minor": 0
      },
      "text/plain": [
       "Epoch 11/20:   0%|          | 0/1200 [00:00<?, ?batch/s]"
      ]
     },
     "metadata": {},
     "output_type": "display_data"
    },
    {
     "name": "stdout",
     "output_type": "stream",
     "text": [
      "test_loss=0.0679, test_acc=0.9790\n"
     ]
    },
    {
     "data": {
      "application/vnd.jupyter.widget-view+json": {
       "model_id": "2e912e10e4e24dbeb8ff3f7c11f8c015",
       "version_major": 2,
       "version_minor": 0
      },
      "text/plain": [
       "Epoch 12/20:   0%|          | 0/1200 [00:00<?, ?batch/s]"
      ]
     },
     "metadata": {},
     "output_type": "display_data"
    },
    {
     "name": "stdout",
     "output_type": "stream",
     "text": [
      "test_loss=0.0644, test_acc=0.9796\n"
     ]
    },
    {
     "data": {
      "application/vnd.jupyter.widget-view+json": {
       "model_id": "8fad1c582ec54c8b99fd6057afc0e37e",
       "version_major": 2,
       "version_minor": 0
      },
      "text/plain": [
       "Epoch 13/20:   0%|          | 0/1200 [00:00<?, ?batch/s]"
      ]
     },
     "metadata": {},
     "output_type": "display_data"
    },
    {
     "name": "stdout",
     "output_type": "stream",
     "text": [
      "test_loss=0.0630, test_acc=0.9801\n"
     ]
    },
    {
     "data": {
      "application/vnd.jupyter.widget-view+json": {
       "model_id": "775b4226f3034d6a829c6dbe442362af",
       "version_major": 2,
       "version_minor": 0
      },
      "text/plain": [
       "Epoch 14/20:   0%|          | 0/1200 [00:00<?, ?batch/s]"
      ]
     },
     "metadata": {},
     "output_type": "display_data"
    },
    {
     "name": "stdout",
     "output_type": "stream",
     "text": [
      "test_loss=0.0647, test_acc=0.9799\n"
     ]
    },
    {
     "data": {
      "application/vnd.jupyter.widget-view+json": {
       "model_id": "deb6273e79004b44b10d9e398bfad2c9",
       "version_major": 2,
       "version_minor": 0
      },
      "text/plain": [
       "Epoch 15/20:   0%|          | 0/1200 [00:00<?, ?batch/s]"
      ]
     },
     "metadata": {},
     "output_type": "display_data"
    },
    {
     "name": "stdout",
     "output_type": "stream",
     "text": [
      "test_loss=0.0663, test_acc=0.9794\n"
     ]
    },
    {
     "data": {
      "application/vnd.jupyter.widget-view+json": {
       "model_id": "ecafedb896804f17ac0acedbd12c909d",
       "version_major": 2,
       "version_minor": 0
      },
      "text/plain": [
       "Epoch 16/20:   0%|          | 0/1200 [00:00<?, ?batch/s]"
      ]
     },
     "metadata": {},
     "output_type": "display_data"
    },
    {
     "name": "stdout",
     "output_type": "stream",
     "text": [
      "test_loss=0.0637, test_acc=0.9799\n"
     ]
    },
    {
     "data": {
      "application/vnd.jupyter.widget-view+json": {
       "model_id": "73a7969fc4a244c89d05a3d14a21173a",
       "version_major": 2,
       "version_minor": 0
      },
      "text/plain": [
       "Epoch 17/20:   0%|          | 0/1200 [00:00<?, ?batch/s]"
      ]
     },
     "metadata": {},
     "output_type": "display_data"
    },
    {
     "name": "stdout",
     "output_type": "stream",
     "text": [
      "test_loss=0.0622, test_acc=0.9808\n"
     ]
    },
    {
     "data": {
      "application/vnd.jupyter.widget-view+json": {
       "model_id": "ff5f5b6ad355443db24f4dac73faf1f4",
       "version_major": 2,
       "version_minor": 0
      },
      "text/plain": [
       "Epoch 18/20:   0%|          | 0/1200 [00:00<?, ?batch/s]"
      ]
     },
     "metadata": {},
     "output_type": "display_data"
    },
    {
     "name": "stdout",
     "output_type": "stream",
     "text": [
      "test_loss=0.0612, test_acc=0.9804\n"
     ]
    },
    {
     "data": {
      "application/vnd.jupyter.widget-view+json": {
       "model_id": "64b46e5e0a0b4b39945b3a5c8c4723b4",
       "version_major": 2,
       "version_minor": 0
      },
      "text/plain": [
       "Epoch 19/20:   0%|          | 0/1200 [00:00<?, ?batch/s]"
      ]
     },
     "metadata": {},
     "output_type": "display_data"
    },
    {
     "name": "stdout",
     "output_type": "stream",
     "text": [
      "test_loss=0.0613, test_acc=0.9818\n"
     ]
    }
   ],
   "source": [
    "epochs = 20\n",
    "for i in range(epochs):\n",
    "    train_loop(train_dataloader, mlp, loss_fn, optimizer, epochs, i)\n",
    "    test_loop(test_dataloader, mlp, loss_fn)"
   ]
  },
  {
   "cell_type": "markdown",
   "metadata": {},
   "source": [
    "---\n",
    "## 可视化预测结果看两眼"
   ]
  },
  {
   "cell_type": "code",
   "execution_count": 18,
   "metadata": {},
   "outputs": [
    {
     "name": "stdout",
     "output_type": "stream",
     "text": [
      "[7442 5601 3462 6808 7999 5246 8396  132 2624]\n"
     ]
    }
   ],
   "source": [
    "rand_indices = np.random.randint(0, len(test_dataset), (9, ))\n",
    "print(rand_indices)"
   ]
  },
  {
   "cell_type": "code",
   "execution_count": 19,
   "metadata": {},
   "outputs": [],
   "source": [
    "test_images = np.array([test_dataset[index][0] for index in rand_indices])\n",
    "test_labels = [test_dataset[index][1] for index in rand_indices]"
   ]
  },
  {
   "cell_type": "code",
   "execution_count": 20,
   "metadata": {},
   "outputs": [
    {
     "name": "stdout",
     "output_type": "stream",
     "text": [
      "(9, 10)\n"
     ]
    }
   ],
   "source": [
    "with no_grad():\n",
    "    preds = mlp(Tensor(test_images.reshape(len(test_images), -1)))\n",
    "print(preds.data.shape)"
   ]
  },
  {
   "cell_type": "code",
   "execution_count": 21,
   "metadata": {},
   "outputs": [
    {
     "data": {
      "image/png": "[encoded data removed]",
      "text/plain": [
       "<Figure size 432x288 with 9 Axes>"
      ]
     },
     "metadata": {
      "needs_background": "light"
     },
     "output_type": "display_data"
    }
   ],
   "source": [
    "for i in range(3):\n",
    "    for j in range(3):\n",
    "        plt.subplot(3, 3, i*3+j+1)\n",
    "        plt.imshow(test_images[i*3+j], cmap='gray')\n",
    "        plt.title(f'pred label: {preds.data[i*3+j].argmax()}')\n",
    "        plt.axis('off')\n",
    "plt.tight_layout()\n",
    "plt.show()"
   ]
  }
 ],
 "metadata": {
  "interpreter": {
   "hash": "6493ed4e372427c4b662df94edd71485b8ef8c9481bf9911e779218f9df701ab"
  },
  "kernelspec": {
   "display_name": "Python 3.8.12 64-bit ('pytorch110': conda)",
   "language": "python",
   "name": "python3"
  },
  "language_info": {
   "codemirror_mode": {
    "name": "ipython",
    "version": 3
   },
   "file_extension": ".py",
   "mimetype": "text/x-python",
   "name": "python",
   "nbconvert_exporter": "python",
   "pygments_lexer": "ipython3",
   "version": "3.8.12"
  },
  "orig_nbformat": 4
 },
 "nbformat": 4,
 "nbformat_minor": 2
}
