{
 "cells": [
  {
   "cell_type": "code",
   "execution_count": 1,
   "metadata": {},
   "outputs": [],
   "source": [
    "import numpy as np\n",
    "import matplotlib.pyplot as plt\n",
    "from tqdm.notebook import tqdm\n",
    "import math\n",
    "from SimpleTorch import Tensor, no_grad\n",
    "from SimpleTorch.data_tools import Dataset, DataLoader\n",
    "from SimpleTorch.operators import ReLU, MSELoss\n",
    "from SimpleTorch.modules import Module, Linear, Sequential\n",
    "from SimpleTorch.optim import SGD\n"
   ]
  },
  {
   "cell_type": "markdown",
   "metadata": {},
   "source": [
    "---\n",
    "## 准备数据"
   ]
  },
  {
   "cell_type": "code",
   "execution_count": 2,
   "metadata": {},
   "outputs": [],
   "source": [
    "sample_num = 100\n",
    "a, b, c, d = 1, 2, 3, 4\n",
    "x = np.random.rand(sample_num) * 2 * math.pi - math.pi\n",
    "y = a * np.cos(b * x) + c * np.sin(d * x)"
   ]
  },
  {
   "cell_type": "code",
   "execution_count": 3,
   "metadata": {},
   "outputs": [],
   "source": [
    "x = np.expand_dims(x, axis=1)\n",
    "y = np.expand_dims(y, axis=1)"
   ]
  },
  {
   "cell_type": "code",
   "execution_count": 4,
   "metadata": {},
   "outputs": [
    {
     "name": "stdout",
     "output_type": "stream",
     "text": [
      "(100, 1) (100, 1)\n",
      "float64 float64\n"
     ]
    }
   ],
   "source": [
    "print(x.shape, y.shape)\n",
    "print(x.dtype, y.dtype)"
   ]
  },
  {
   "cell_type": "markdown",
   "metadata": {},
   "source": [
    "---\n",
    "### 特征工程"
   ]
  },
  {
   "cell_type": "code",
   "execution_count": 5,
   "metadata": {},
   "outputs": [],
   "source": [
    "x_feature = []\n",
    "for i in range(1, 4):\n",
    "    temp = x ** i\n",
    "    x_feature.append(temp)"
   ]
  },
  {
   "cell_type": "code",
   "execution_count": 6,
   "metadata": {},
   "outputs": [
    {
     "name": "stdout",
     "output_type": "stream",
     "text": [
      "(100, 3)\n"
     ]
    }
   ],
   "source": [
    "x_feature = np.concatenate(x_feature, axis=1)\n",
    "print(x_feature.shape)"
   ]
  },
  {
   "cell_type": "code",
   "execution_count": 7,
   "metadata": {},
   "outputs": [],
   "source": [
    "class MyDataset(Dataset):\n",
    "    def __init__(self, x, y):\n",
    "        super(MyDataset, self).__init__()\n",
    "        self.x = x\n",
    "        self.y = y\n",
    "    \n",
    "    def __len__(self):\n",
    "        return len(self.x)\n",
    "\n",
    "    def __getitem__(self, index):\n",
    "        return self.x[index], self.y[index]"
   ]
  },
  {
   "cell_type": "code",
   "execution_count": 8,
   "metadata": {},
   "outputs": [],
   "source": [
    "ratio = 0.8\n",
    "train_sample_num = int(sample_num * ratio)\n",
    "train_dataset = MyDataset(x_feature[0:train_sample_num], y[0:train_sample_num])\n",
    "test_dataset = MyDataset(x_feature[train_sample_num:], y[train_sample_num:])"
   ]
  },
  {
   "cell_type": "code",
   "execution_count": 9,
   "metadata": {},
   "outputs": [
    {
     "name": "stdout",
     "output_type": "stream",
     "text": [
      "80 20\n"
     ]
    }
   ],
   "source": [
    "print(len(train_dataset), len(test_dataset))"
   ]
  },
  {
   "cell_type": "markdown",
   "metadata": {},
   "source": [
    "---\n",
    "### 可视化数据看一眼"
   ]
  },
  {
   "cell_type": "code",
   "execution_count": 10,
   "metadata": {},
   "outputs": [
    {
     "data": {
      "text/plain": [
       "<matplotlib.collections.PathCollection at 0x15f3d288fa0>"
      ]
     },
     "execution_count": 10,
     "metadata": {},
     "output_type": "execute_result"
    },
    {
     "data": {
      "image/png": "[encoded data removed]",
      "text/plain": [
       "<Figure size 432x288 with 1 Axes>"
      ]
     },
     "metadata": {
      "needs_background": "light"
     },
     "output_type": "display_data"
    }
   ],
   "source": [
    "plt.scatter(x, y)"
   ]
  },
  {
   "cell_type": "code",
   "execution_count": 11,
   "metadata": {},
   "outputs": [
    {
     "data": {
      "text/plain": [
       "<matplotlib.collections.PathCollection at 0x15f3af9fb50>"
      ]
     },
     "execution_count": 11,
     "metadata": {},
     "output_type": "execute_result"
    },
    {
     "data": {
      "image/png": "[encoded data removed]",
      "text/plain": [
       "<Figure size 432x288 with 1 Axes>"
      ]
     },
     "metadata": {
      "needs_background": "light"
     },
     "output_type": "display_data"
    }
   ],
   "source": [
    "plt.scatter(x[0:train_sample_num], y[0:train_sample_num])"
   ]
  },
  {
   "cell_type": "code",
   "execution_count": 12,
   "metadata": {},
   "outputs": [
    {
     "data": {
      "text/plain": [
       "<matplotlib.collections.PathCollection at 0x15f3dab5700>"
      ]
     },
     "execution_count": 12,
     "metadata": {},
     "output_type": "execute_result"
    },
    {
     "data": {
      "image/png": "[encoded data removed]",
      "text/plain": [
       "<Figure size 432x288 with 1 Axes>"
      ]
     },
     "metadata": {
      "needs_background": "light"
     },
     "output_type": "display_data"
    }
   ],
   "source": [
    "plt.scatter(x[train_sample_num:], y[train_sample_num:])"
   ]
  },
  {
   "cell_type": "code",
   "execution_count": 13,
   "metadata": {},
   "outputs": [],
   "source": [
    "train_dataloader = DataLoader(train_dataset, batch_size=50, shuffle=True)\n",
    "test_dataloader = DataLoader(test_dataset, batch_size=50)"
   ]
  },
  {
   "cell_type": "code",
   "execution_count": 14,
   "metadata": {},
   "outputs": [
    {
     "name": "stdout",
     "output_type": "stream",
     "text": [
      "<class 'list'>\n",
      "2\n",
      "<class 'numpy.ndarray'> <class 'numpy.ndarray'>\n",
      "(50, 3) float64\n",
      "(50, 1) float64\n"
     ]
    }
   ],
   "source": [
    "temp = next(iter(train_dataloader))\n",
    "print(type(temp))\n",
    "print(len(temp))\n",
    "print(type(temp[0]), type(temp[1]))\n",
    "print(temp[0].shape, temp[0].dtype)\n",
    "print(temp[1].shape, temp[1].dtype)"
   ]
  },
  {
   "cell_type": "markdown",
   "metadata": {},
   "source": [
    "---\n",
    "## 模型部分"
   ]
  },
  {
   "cell_type": "code",
   "execution_count": 15,
   "metadata": {},
   "outputs": [],
   "source": [
    "class MLP(Module):\n",
    "    def __init__(self, feature_num, layer_num, units):\n",
    "        super(MLP, self).__init__()\n",
    "        \n",
    "        layers = []\n",
    "        for i in range(layer_num):\n",
    "            if i == 0:\n",
    "                layers += [Linear(feature_num, units[i]),\n",
    "                            ReLU()]\n",
    "            else:\n",
    "                layers += [Linear(units[i - 1], units[i]),\n",
    "                            ReLU()]\n",
    "        layers += [Linear(units[-1], 1)]\n",
    "        \n",
    "        self.layers = Sequential(*layers)\n",
    "    \n",
    "    def forward(self, x):\n",
    "        y = self.layers(x)\n",
    "\n",
    "        return y"
   ]
  },
  {
   "cell_type": "code",
   "execution_count": 16,
   "metadata": {},
   "outputs": [],
   "source": [
    "def train_loop(dataloader, model, loss_fn, optimizer, total_epoch, cur_epoch, show_gap, update_gap):\n",
    "    if cur_epoch % show_gap == 0:\n",
    "        pbar = tqdm(dataloader, desc=f'Epoch {cur_epoch}/{total_epoch}', unit='batch')\n",
    "    else:\n",
    "        pbar = dataloader\n",
    "\n",
    "    for i, (x, y) in enumerate(pbar):\n",
    "        x = Tensor(x)\n",
    "        y = Tensor(y)\n",
    "\n",
    "        optimizer.zero_grad()\n",
    "        y_pred = model(x)\n",
    "        loss = loss_fn(y_pred, y)\n",
    "        loss.backward()\n",
    "        optimizer.step()\n",
    "\n",
    "        if cur_epoch % show_gap == 0 and i % update_gap == 0:\n",
    "            pbar.set_postfix_str(f'loss={loss.data.item():.4f}')"
   ]
  },
  {
   "cell_type": "code",
   "execution_count": 17,
   "metadata": {},
   "outputs": [],
   "source": [
    "def test_loop(dataloader, model, loss_fn, cur_epoch, show_gap):\n",
    "    steps = len(dataloader)\n",
    "    loss = 0.0\n",
    "    \n",
    "    with no_grad():\n",
    "        for x, y in dataloader:\n",
    "            x = Tensor(x)\n",
    "            y = Tensor(y)\n",
    "\n",
    "            y_pred = model(x)\n",
    "            loss += loss_fn(y_pred, y).data.item()\n",
    "    \n",
    "    loss = loss / steps\n",
    "\n",
    "    if cur_epoch % show_gap == 0:\n",
    "        print(f'test_loss={loss:.4f}')"
   ]
  },
  {
   "cell_type": "markdown",
   "metadata": {},
   "source": [
    "---\n",
    "## 开始训练"
   ]
  },
  {
   "cell_type": "code",
   "execution_count": 18,
   "metadata": {},
   "outputs": [
    {
     "name": "stdout",
     "output_type": "stream",
     "text": [
      "<__main__.MLP object at 0x0000015F3DADD970>\n"
     ]
    }
   ],
   "source": [
    "mlp = MLP(3, 3, [8, 16, 32])\n",
    "print(mlp)"
   ]
  },
  {
   "cell_type": "code",
   "execution_count": 19,
   "metadata": {},
   "outputs": [
    {
     "name": "stdout",
     "output_type": "stream",
     "text": [
      "layers_0_weight (8, 3) float64\n",
      "layers_0_bias (8,) float64\n",
      "layers_2_weight (16, 8) float64\n",
      "layers_2_bias (16,) float64\n",
      "layers_4_weight (32, 16) float64\n",
      "layers_4_bias (32,) float64\n",
      "layers_6_weight (1, 32) float64\n",
      "layers_6_bias (1,) float64\n"
     ]
    }
   ],
   "source": [
    "for name, param in mlp.parameters:\n",
    "    print(name, param.data.shape, param.data.dtype)"
   ]
  },
  {
   "cell_type": "code",
   "execution_count": 20,
   "metadata": {},
   "outputs": [],
   "source": [
    "loss_fn = MSELoss()\n",
    "optimizer = SGD(mlp.parameters, lr=0.01)"
   ]
  },
  {
   "cell_type": "code",
   "execution_count": 21,
   "metadata": {},
   "outputs": [
    {
     "data": {
      "application/vnd.jupyter.widget-view+json": {
       "model_id": "b45d96d8479b40feb63534e5282eca8b",
       "version_major": 2,
       "version_minor": 0
      },
      "text/plain": [
       "Epoch 0/10000:   0%|          | 0/2 [00:00<?, ?batch/s]"
      ]
     },
     "metadata": {},
     "output_type": "display_data"
    },
    {
     "name": "stdout",
     "output_type": "stream",
     "text": [
      "test_loss=4.0283\n"
     ]
    },
    {
     "data": {
      "application/vnd.jupyter.widget-view+json": {
       "model_id": "06e3da9a6a514c7a84a0368e51e8be1b",
       "version_major": 2,
       "version_minor": 0
      },
      "text/plain": [
       "Epoch 50/10000:   0%|          | 0/2 [00:00<?, ?batch/s]"
      ]
     },
     "metadata": {},
     "output_type": "display_data"
    },
    {
     "name": "stdout",
     "output_type": "stream",
     "text": [
      "test_loss=4.6177\n"
     ]
    },
    {
     "data": {
      "application/vnd.jupyter.widget-view+json": {
       "model_id": "8dcc3f81403f42a0804e71374de30b79",
       "version_major": 2,
       "version_minor": 0
      },
      "text/plain": [
       "Epoch 100/10000:   0%|          | 0/2 [00:00<?, ?batch/s]"
      ]
     },
     "metadata": {},
     "output_type": "display_data"
    },
    {
     "name": "stdout",
     "output_type": "stream",
     "text": [
      "test_loss=4.5432\n"
     ]
    },
    {
     "data": {
      "application/vnd.jupyter.widget-view+json": {
       "model_id": "a0ae3180a6a64ba48e24805acb33eb99",
       "version_major": 2,
       "version_minor": 0
      },
      "text/plain": [
       "Epoch 150/10000:   0%|          | 0/2 [00:00<?, ?batch/s]"
      ]
     },
     "metadata": {},
     "output_type": "display_data"
    },
    {
     "name": "stdout",
     "output_type": "stream",
     "text": [
      "test_loss=2.4731\n"
     ]
    },
    {
     "data": {
      "application/vnd.jupyter.widget-view+json": {
       "model_id": "acacdcb8dcce4a6ebb7165fad9783e33",
       "version_major": 2,
       "version_minor": 0
      },
      "text/plain": [
       "Epoch 200/10000:   0%|          | 0/2 [00:00<?, ?batch/s]"
      ]
     },
     "metadata": {},
     "output_type": "display_data"
    },
    {
     "name": "stdout",
     "output_type": "stream",
     "text": [
      "test_loss=1.4151\n"
     ]
    },
    {
     "data": {
      "application/vnd.jupyter.widget-view+json": {
       "model_id": "de45f276597e4c42bf2283c851339cf6",
       "version_major": 2,
       "version_minor": 0
      },
      "text/plain": [
       "Epoch 250/10000:   0%|          | 0/2 [00:00<?, ?batch/s]"
      ]
     },
     "metadata": {},
     "output_type": "display_data"
    },
    {
     "name": "stdout",
     "output_type": "stream",
     "text": [
      "test_loss=0.8167\n"
     ]
    },
    {
     "data": {
      "application/vnd.jupyter.widget-view+json": {
       "model_id": "e4c57bb5b6f24b7795e9b57107d29d44",
       "version_major": 2,
       "version_minor": 0
      },
      "text/plain": [
       "Epoch 300/10000:   0%|          | 0/2 [00:00<?, ?batch/s]"
      ]
     },
     "metadata": {},
     "output_type": "display_data"
    },
    {
     "name": "stdout",
     "output_type": "stream",
     "text": [
      "test_loss=0.4013\n"
     ]
    },
    {
     "data": {
      "application/vnd.jupyter.widget-view+json": {
       "model_id": "d9134d3a4b1d4cefbd60184c54e8a7e4",
       "version_major": 2,
       "version_minor": 0
      },
      "text/plain": [
       "Epoch 350/10000:   0%|          | 0/2 [00:00<?, ?batch/s]"
      ]
     },
     "metadata": {},
     "output_type": "display_data"
    },
    {
     "name": "stdout",
     "output_type": "stream",
     "text": [
      "test_loss=0.2582\n"
     ]
    },
    {
     "data": {
      "application/vnd.jupyter.widget-view+json": {
       "model_id": "c06a501449fe4327ac48ff97c71f8447",
       "version_major": 2,
       "version_minor": 0
      },
      "text/plain": [
       "Epoch 400/10000:   0%|          | 0/2 [00:00<?, ?batch/s]"
      ]
     },
     "metadata": {},
     "output_type": "display_data"
    },
    {
     "name": "stdout",
     "output_type": "stream",
     "text": [
      "test_loss=1.3829\n"
     ]
    },
    {
     "data": {
      "application/vnd.jupyter.widget-view+json": {
       "model_id": "7087e8d37fce4bc187355ef542d31e87",
       "version_major": 2,
       "version_minor": 0
      },
      "text/plain": [
       "Epoch 450/10000:   0%|          | 0/2 [00:00<?, ?batch/s]"
      ]
     },
     "metadata": {},
     "output_type": "display_data"
    },
    {
     "name": "stdout",
     "output_type": "stream",
     "text": [
      "test_loss=0.1170\n"
     ]
    },
    {
     "data": {
      "application/vnd.jupyter.widget-view+json": {
       "model_id": "fc12afd9ccf64eb9a391ca1400519d28",
       "version_major": 2,
       "version_minor": 0
      },
      "text/plain": [
       "Epoch 500/10000:   0%|          | 0/2 [00:00<?, ?batch/s]"
      ]
     },
     "metadata": {},
     "output_type": "display_data"
    },
    {
     "name": "stdout",
     "output_type": "stream",
     "text": [
      "test_loss=0.6091\n"
     ]
    },
    {
     "data": {
      "application/vnd.jupyter.widget-view+json": {
       "model_id": "af97b82af2b8412599fb1e7bbb69f6b6",
       "version_major": 2,
       "version_minor": 0
      },
      "text/plain": [
       "Epoch 550/10000:   0%|          | 0/2 [00:00<?, ?batch/s]"
      ]
     },
     "metadata": {},
     "output_type": "display_data"
    },
    {
     "name": "stdout",
     "output_type": "stream",
     "text": [
      "test_loss=0.1026\n"
     ]
    },
    {
     "data": {
      "application/vnd.jupyter.widget-view+json": {
       "model_id": "283e999b504045ac998a4b402fcb4875",
       "version_major": 2,
       "version_minor": 0
      },
      "text/plain": [
       "Epoch 600/10000:   0%|          | 0/2 [00:00<?, ?batch/s]"
      ]
     },
     "metadata": {},
     "output_type": "display_data"
    },
    {
     "name": "stdout",
     "output_type": "stream",
     "text": [
      "test_loss=0.1615\n"
     ]
    },
    {
     "data": {
      "application/vnd.jupyter.widget-view+json": {
       "model_id": "9b50c1e5b1b44c368e83bfdeb1a7613b",
       "version_major": 2,
       "version_minor": 0
      },
      "text/plain": [
       "Epoch 650/10000:   0%|          | 0/2 [00:00<?, ?batch/s]"
      ]
     },
     "metadata": {},
     "output_type": "display_data"
    },
    {
     "name": "stdout",
     "output_type": "stream",
     "text": [
      "test_loss=0.1975\n"
     ]
    },
    {
     "data": {
      "application/vnd.jupyter.widget-view+json": {
       "model_id": "d4835f7d9eb24451b800a67d79699488",
       "version_major": 2,
       "version_minor": 0
      },
      "text/plain": [
       "Epoch 700/10000:   0%|          | 0/2 [00:00<?, ?batch/s]"
      ]
     },
     "metadata": {},
     "output_type": "display_data"
    },
    {
     "name": "stdout",
     "output_type": "stream",
     "text": [
      "test_loss=0.1570\n"
     ]
    },
    {
     "data": {
      "application/vnd.jupyter.widget-view+json": {
       "model_id": "62672246e3734bc5a5606bc45cd3a7be",
       "version_major": 2,
       "version_minor": 0
      },
      "text/plain": [
       "Epoch 750/10000:   0%|          | 0/2 [00:00<?, ?batch/s]"
      ]
     },
     "metadata": {},
     "output_type": "display_data"
    },
    {
     "name": "stdout",
     "output_type": "stream",
     "text": [
      "test_loss=0.3929\n"
     ]
    },
    {
     "data": {
      "application/vnd.jupyter.widget-view+json": {
       "model_id": "8e9ab643b640429d96b2da23a87cdbe9",
       "version_major": 2,
       "version_minor": 0
      },
      "text/plain": [
       "Epoch 800/10000:   0%|          | 0/2 [00:00<?, ?batch/s]"
      ]
     },
     "metadata": {},
     "output_type": "display_data"
    },
    {
     "name": "stdout",
     "output_type": "stream",
     "text": [
      "test_loss=0.1379\n"
     ]
    },
    {
     "data": {
      "application/vnd.jupyter.widget-view+json": {
       "model_id": "d6de5059f5e14deb931bfd4b01a0fc3f",
       "version_major": 2,
       "version_minor": 0
      },
      "text/plain": [
       "Epoch 850/10000:   0%|          | 0/2 [00:00<?, ?batch/s]"
      ]
     },
     "metadata": {},
     "output_type": "display_data"
    },
    {
     "name": "stdout",
     "output_type": "stream",
     "text": [
      "test_loss=0.2800\n"
     ]
    },
    {
     "data": {
      "application/vnd.jupyter.widget-view+json": {
       "model_id": "85a89129d6db434c9b9e384cf464cb2a",
       "version_major": 2,
       "version_minor": 0
      },
      "text/plain": [
       "Epoch 900/10000:   0%|          | 0/2 [00:00<?, ?batch/s]"
      ]
     },
     "metadata": {},
     "output_type": "display_data"
    },
    {
     "name": "stdout",
     "output_type": "stream",
     "text": [
      "test_loss=0.1458\n"
     ]
    },
    {
     "data": {
      "application/vnd.jupyter.widget-view+json": {
       "model_id": "ab4941eda4774cba93b39e0d93bc9afe",
       "version_major": 2,
       "version_minor": 0
      },
      "text/plain": [
       "Epoch 950/10000:   0%|          | 0/2 [00:00<?, ?batch/s]"
      ]
     },
     "metadata": {},
     "output_type": "display_data"
    },
    {
     "name": "stdout",
     "output_type": "stream",
     "text": [
      "test_loss=0.1283\n"
     ]
    },
    {
     "data": {
      "application/vnd.jupyter.widget-view+json": {
       "model_id": "fcb6c38e3c654a2babfefa8c9afc4a3b",
       "version_major": 2,
       "version_minor": 0
      },
      "text/plain": [
       "Epoch 1000/10000:   0%|          | 0/2 [00:00<?, ?batch/s]"
      ]
     },
     "metadata": {},
     "output_type": "display_data"
    },
    {
     "name": "stdout",
     "output_type": "stream",
     "text": [
      "test_loss=0.2794\n"
     ]
    },
    {
     "data": {
      "application/vnd.jupyter.widget-view+json": {
       "model_id": "5b8f96cac673449994dba84ab8f2c649",
       "version_major": 2,
       "version_minor": 0
      },
      "text/plain": [
       "Epoch 1050/10000:   0%|          | 0/2 [00:00<?, ?batch/s]"
      ]
     },
     "metadata": {},
     "output_type": "display_data"
    },
    {
     "name": "stdout",
     "output_type": "stream",
     "text": [
      "test_loss=0.2547\n"
     ]
    },
    {
     "data": {
      "application/vnd.jupyter.widget-view+json": {
       "model_id": "5e5e460f072e489fac0669a9ce205f7b",
       "version_major": 2,
       "version_minor": 0
      },
      "text/plain": [
       "Epoch 1100/10000:   0%|          | 0/2 [00:00<?, ?batch/s]"
      ]
     },
     "metadata": {},
     "output_type": "display_data"
    },
    {
     "name": "stdout",
     "output_type": "stream",
     "text": [
      "test_loss=0.2296\n"
     ]
    },
    {
     "data": {
      "application/vnd.jupyter.widget-view+json": {
       "model_id": "80518498cda04e408c7cf0fb8c6d93ca",
       "version_major": 2,
       "version_minor": 0
      },
      "text/plain": [
       "Epoch 1150/10000:   0%|          | 0/2 [00:00<?, ?batch/s]"
      ]
     },
     "metadata": {},
     "output_type": "display_data"
    },
    {
     "name": "stdout",
     "output_type": "stream",
     "text": [
      "test_loss=0.2518\n"
     ]
    },
    {
     "data": {
      "application/vnd.jupyter.widget-view+json": {
       "model_id": "bca4b28edebf42ac916edc668f266e2e",
       "version_major": 2,
       "version_minor": 0
      },
      "text/plain": [
       "Epoch 1200/10000:   0%|          | 0/2 [00:00<?, ?batch/s]"
      ]
     },
     "metadata": {},
     "output_type": "display_data"
    },
    {
     "name": "stdout",
     "output_type": "stream",
     "text": [
      "test_loss=0.2765\n"
     ]
    },
    {
     "data": {
      "application/vnd.jupyter.widget-view+json": {
       "model_id": "c3032893410240388b76050c28bb543d",
       "version_major": 2,
       "version_minor": 0
      },
      "text/plain": [
       "Epoch 1250/10000:   0%|          | 0/2 [00:00<?, ?batch/s]"
      ]
     },
     "metadata": {},
     "output_type": "display_data"
    },
    {
     "name": "stdout",
     "output_type": "stream",
     "text": [
      "test_loss=0.3712\n"
     ]
    },
    {
     "data": {
      "application/vnd.jupyter.widget-view+json": {
       "model_id": "bf03ac5c880f4a51b90b4ae92e731f5e",
       "version_major": 2,
       "version_minor": 0
      },
      "text/plain": [
       "Epoch 1300/10000:   0%|          | 0/2 [00:00<?, ?batch/s]"
      ]
     },
     "metadata": {},
     "output_type": "display_data"
    },
    {
     "name": "stdout",
     "output_type": "stream",
     "text": [
      "test_loss=0.3015\n"
     ]
    },
    {
     "data": {
      "application/vnd.jupyter.widget-view+json": {
       "model_id": "e2c82ba06d114f01bd85ce212b1e779a",
       "version_major": 2,
       "version_minor": 0
      },
      "text/plain": [
       "Epoch 1350/10000:   0%|          | 0/2 [00:00<?, ?batch/s]"
      ]
     },
     "metadata": {},
     "output_type": "display_data"
    },
    {
     "name": "stdout",
     "output_type": "stream",
     "text": [
      "test_loss=0.0945\n"
     ]
    },
    {
     "data": {
      "application/vnd.jupyter.widget-view+json": {
       "model_id": "af1b3dd2d30f4cb6878f8a026a5d384d",
       "version_major": 2,
       "version_minor": 0
      },
      "text/plain": [
       "Epoch 1400/10000:   0%|          | 0/2 [00:00<?, ?batch/s]"
      ]
     },
     "metadata": {},
     "output_type": "display_data"
    },
    {
     "name": "stdout",
     "output_type": "stream",
     "text": [
      "test_loss=0.2326\n"
     ]
    },
    {
     "data": {
      "application/vnd.jupyter.widget-view+json": {
       "model_id": "4c9f93ff18aa40b69c44b19362e5bae3",
       "version_major": 2,
       "version_minor": 0
      },
      "text/plain": [
       "Epoch 1450/10000:   0%|          | 0/2 [00:00<?, ?batch/s]"
      ]
     },
     "metadata": {},
     "output_type": "display_data"
    },
    {
     "name": "stdout",
     "output_type": "stream",
     "text": [
      "test_loss=0.0501\n"
     ]
    },
    {
     "data": {
      "application/vnd.jupyter.widget-view+json": {
       "model_id": "6e3c8587225a40f9a4f9d80df494e53e",
       "version_major": 2,
       "version_minor": 0
      },
      "text/plain": [
       "Epoch 1500/10000:   0%|          | 0/2 [00:00<?, ?batch/s]"
      ]
     },
     "metadata": {},
     "output_type": "display_data"
    },
    {
     "name": "stdout",
     "output_type": "stream",
     "text": [
      "test_loss=0.0442\n"
     ]
    },
    {
     "data": {
      "application/vnd.jupyter.widget-view+json": {
       "model_id": "e21c80478aa8410c835aba1dc3c5c38a",
       "version_major": 2,
       "version_minor": 0
      },
      "text/plain": [
       "Epoch 1550/10000:   0%|          | 0/2 [00:00<?, ?batch/s]"
      ]
     },
     "metadata": {},
     "output_type": "display_data"
    },
    {
     "name": "stdout",
     "output_type": "stream",
     "text": [
      "test_loss=0.2076\n"
     ]
    },
    {
     "data": {
      "application/vnd.jupyter.widget-view+json": {
       "model_id": "1f9e4771b436498197c259631f11a2f1",
       "version_major": 2,
       "version_minor": 0
      },
      "text/plain": [
       "Epoch 1600/10000:   0%|          | 0/2 [00:00<?, ?batch/s]"
      ]
     },
     "metadata": {},
     "output_type": "display_data"
    },
    {
     "name": "stdout",
     "output_type": "stream",
     "text": [
      "test_loss=0.1705\n"
     ]
    },
    {
     "data": {
      "application/vnd.jupyter.widget-view+json": {
       "model_id": "f6133e1ab90e41d48ce20da65c2982db",
       "version_major": 2,
       "version_minor": 0
      },
      "text/plain": [
       "Epoch 1650/10000:   0%|          | 0/2 [00:00<?, ?batch/s]"
      ]
     },
     "metadata": {},
     "output_type": "display_data"
    },
    {
     "name": "stdout",
     "output_type": "stream",
     "text": [
      "test_loss=0.0872\n"
     ]
    },
    {
     "data": {
      "application/vnd.jupyter.widget-view+json": {
       "model_id": "c6191a964e8f4805a32b6a905be3d5fa",
       "version_major": 2,
       "version_minor": 0
      },
      "text/plain": [
       "Epoch 1700/10000:   0%|          | 0/2 [00:00<?, ?batch/s]"
      ]
     },
     "metadata": {},
     "output_type": "display_data"
    },
    {
     "name": "stdout",
     "output_type": "stream",
     "text": [
      "test_loss=0.0544\n"
     ]
    },
    {
     "data": {
      "application/vnd.jupyter.widget-view+json": {
       "model_id": "b1b6ad26f1ed4523864397bf6973ff87",
       "version_major": 2,
       "version_minor": 0
      },
      "text/plain": [
       "Epoch 1750/10000:   0%|          | 0/2 [00:00<?, ?batch/s]"
      ]
     },
     "metadata": {},
     "output_type": "display_data"
    },
    {
     "name": "stdout",
     "output_type": "stream",
     "text": [
      "test_loss=0.0804\n"
     ]
    },
    {
     "data": {
      "application/vnd.jupyter.widget-view+json": {
       "model_id": "0cc9acaf108048199a2bbb21f5e120a7",
       "version_major": 2,
       "version_minor": 0
      },
      "text/plain": [
       "Epoch 1800/10000:   0%|          | 0/2 [00:00<?, ?batch/s]"
      ]
     },
     "metadata": {},
     "output_type": "display_data"
    },
    {
     "name": "stdout",
     "output_type": "stream",
     "text": [
      "test_loss=0.1321\n"
     ]
    },
    {
     "data": {
      "application/vnd.jupyter.widget-view+json": {
       "model_id": "98354c8aa3ab4041aba97b22cf8291b1",
       "version_major": 2,
       "version_minor": 0
      },
      "text/plain": [
       "Epoch 1850/10000:   0%|          | 0/2 [00:00<?, ?batch/s]"
      ]
     },
     "metadata": {},
     "output_type": "display_data"
    },
    {
     "name": "stdout",
     "output_type": "stream",
     "text": [
      "test_loss=0.0434\n"
     ]
    },
    {
     "data": {
      "application/vnd.jupyter.widget-view+json": {
       "model_id": "2d939b95b0bc4ff6a8e3baff97d93789",
       "version_major": 2,
       "version_minor": 0
      },
      "text/plain": [
       "Epoch 1900/10000:   0%|          | 0/2 [00:00<?, ?batch/s]"
      ]
     },
     "metadata": {},
     "output_type": "display_data"
    },
    {
     "name": "stdout",
     "output_type": "stream",
     "text": [
      "test_loss=0.1114\n"
     ]
    },
    {
     "data": {
      "application/vnd.jupyter.widget-view+json": {
       "model_id": "c282c4a9ee2d42279db80a35e647b6be",
       "version_major": 2,
       "version_minor": 0
      },
      "text/plain": [
       "Epoch 1950/10000:   0%|          | 0/2 [00:00<?, ?batch/s]"
      ]
     },
     "metadata": {},
     "output_type": "display_data"
    },
    {
     "name": "stdout",
     "output_type": "stream",
     "text": [
      "test_loss=0.0627\n"
     ]
    },
    {
     "data": {
      "application/vnd.jupyter.widget-view+json": {
       "model_id": "60bb04854fe246a7b14370f41156b2ca",
       "version_major": 2,
       "version_minor": 0
      },
      "text/plain": [
       "Epoch 2000/10000:   0%|          | 0/2 [00:00<?, ?batch/s]"
      ]
     },
     "metadata": {},
     "output_type": "display_data"
    },
    {
     "name": "stdout",
     "output_type": "stream",
     "text": [
      "test_loss=0.0731\n"
     ]
    },
    {
     "data": {
      "application/vnd.jupyter.widget-view+json": {
       "model_id": "cc750a12cc6c465c8943b17058a6f810",
       "version_major": 2,
       "version_minor": 0
      },
      "text/plain": [
       "Epoch 2050/10000:   0%|          | 0/2 [00:00<?, ?batch/s]"
      ]
     },
     "metadata": {},
     "output_type": "display_data"
    },
    {
     "name": "stdout",
     "output_type": "stream",
     "text": [
      "test_loss=0.0653\n"
     ]
    },
    {
     "data": {
      "application/vnd.jupyter.widget-view+json": {
       "model_id": "8c7d712e4f864a57ae199277022ed7fb",
       "version_major": 2,
       "version_minor": 0
      },
      "text/plain": [
       "Epoch 2100/10000:   0%|          | 0/2 [00:00<?, ?batch/s]"
      ]
     },
     "metadata": {},
     "output_type": "display_data"
    },
    {
     "name": "stdout",
     "output_type": "stream",
     "text": [
      "test_loss=0.1061\n"
     ]
    },
    {
     "data": {
      "application/vnd.jupyter.widget-view+json": {
       "model_id": "1a6dc38413fd4ee0b7a37290c7d95dae",
       "version_major": 2,
       "version_minor": 0
      },
      "text/plain": [
       "Epoch 2150/10000:   0%|          | 0/2 [00:00<?, ?batch/s]"
      ]
     },
     "metadata": {},
     "output_type": "display_data"
    },
    {
     "name": "stdout",
     "output_type": "stream",
     "text": [
      "test_loss=0.0259\n"
     ]
    },
    {
     "data": {
      "application/vnd.jupyter.widget-view+json": {
       "model_id": "1d5df52d657d400cb343f5cae0855887",
       "version_major": 2,
       "version_minor": 0
      },
      "text/plain": [
       "Epoch 2200/10000:   0%|          | 0/2 [00:00<?, ?batch/s]"
      ]
     },
     "metadata": {},
     "output_type": "display_data"
    },
    {
     "name": "stdout",
     "output_type": "stream",
     "text": [
      "test_loss=0.0534\n"
     ]
    },
    {
     "data": {
      "application/vnd.jupyter.widget-view+json": {
       "model_id": "1d8108b6a2b047a8b67472d26d9b3161",
       "version_major": 2,
       "version_minor": 0
      },
      "text/plain": [
       "Epoch 2250/10000:   0%|          | 0/2 [00:00<?, ?batch/s]"
      ]
     },
     "metadata": {},
     "output_type": "display_data"
    },
    {
     "name": "stdout",
     "output_type": "stream",
     "text": [
      "test_loss=0.1908\n"
     ]
    },
    {
     "data": {
      "application/vnd.jupyter.widget-view+json": {
       "model_id": "2943d91253d04002ba2cabb6182a28cb",
       "version_major": 2,
       "version_minor": 0
      },
      "text/plain": [
       "Epoch 2300/10000:   0%|          | 0/2 [00:00<?, ?batch/s]"
      ]
     },
     "metadata": {},
     "output_type": "display_data"
    },
    {
     "name": "stdout",
     "output_type": "stream",
     "text": [
      "test_loss=0.0432\n"
     ]
    },
    {
     "data": {
      "application/vnd.jupyter.widget-view+json": {
       "model_id": "dc667939b9234e4fb58ef35d7bf51f37",
       "version_major": 2,
       "version_minor": 0
      },
      "text/plain": [
       "Epoch 2350/10000:   0%|          | 0/2 [00:00<?, ?batch/s]"
      ]
     },
     "metadata": {},
     "output_type": "display_data"
    },
    {
     "name": "stdout",
     "output_type": "stream",
     "text": [
      "test_loss=0.1814\n"
     ]
    },
    {
     "data": {
      "application/vnd.jupyter.widget-view+json": {
       "model_id": "1431b98ba8bc4f918506787b4cfb35e2",
       "version_major": 2,
       "version_minor": 0
      },
      "text/plain": [
       "Epoch 2400/10000:   0%|          | 0/2 [00:00<?, ?batch/s]"
      ]
     },
     "metadata": {},
     "output_type": "display_data"
    },
    {
     "name": "stdout",
     "output_type": "stream",
     "text": [
      "test_loss=0.0435\n"
     ]
    },
    {
     "data": {
      "application/vnd.jupyter.widget-view+json": {
       "model_id": "6fed302a5d2c4ac4a66866cf1fac6347",
       "version_major": 2,
       "version_minor": 0
      },
      "text/plain": [
       "Epoch 2450/10000:   0%|          | 0/2 [00:00<?, ?batch/s]"
      ]
     },
     "metadata": {},
     "output_type": "display_data"
    },
    {
     "name": "stdout",
     "output_type": "stream",
     "text": [
      "test_loss=0.0364\n"
     ]
    },
    {
     "data": {
      "application/vnd.jupyter.widget-view+json": {
       "model_id": "db7227a0fbc04d01b119cf85a5901a20",
       "version_major": 2,
       "version_minor": 0
      },
      "text/plain": [
       "Epoch 2500/10000:   0%|          | 0/2 [00:00<?, ?batch/s]"
      ]
     },
     "metadata": {},
     "output_type": "display_data"
    },
    {
     "name": "stdout",
     "output_type": "stream",
     "text": [
      "test_loss=0.0221\n"
     ]
    },
    {
     "data": {
      "application/vnd.jupyter.widget-view+json": {
       "model_id": "36dd861ceb63425d8d3042f984b72cf6",
       "version_major": 2,
       "version_minor": 0
      },
      "text/plain": [
       "Epoch 2550/10000:   0%|          | 0/2 [00:00<?, ?batch/s]"
      ]
     },
     "metadata": {},
     "output_type": "display_data"
    },
    {
     "name": "stdout",
     "output_type": "stream",
     "text": [
      "test_loss=0.0364\n"
     ]
    },
    {
     "data": {
      "application/vnd.jupyter.widget-view+json": {
       "model_id": "d60d6a27b46e4b5ea77502f357aabdac",
       "version_major": 2,
       "version_minor": 0
      },
      "text/plain": [
       "Epoch 2600/10000:   0%|          | 0/2 [00:00<?, ?batch/s]"
      ]
     },
     "metadata": {},
     "output_type": "display_data"
    },
    {
     "name": "stdout",
     "output_type": "stream",
     "text": [
      "test_loss=0.0545\n"
     ]
    },
    {
     "data": {
      "application/vnd.jupyter.widget-view+json": {
       "model_id": "e544a9e0dc854a39b9885dd2387cfba0",
       "version_major": 2,
       "version_minor": 0
      },
      "text/plain": [
       "Epoch 2650/10000:   0%|          | 0/2 [00:00<?, ?batch/s]"
      ]
     },
     "metadata": {},
     "output_type": "display_data"
    },
    {
     "name": "stdout",
     "output_type": "stream",
     "text": [
      "test_loss=0.0286\n"
     ]
    },
    {
     "data": {
      "application/vnd.jupyter.widget-view+json": {
       "model_id": "3b51b86241dd4e968738d4f9ae776299",
       "version_major": 2,
       "version_minor": 0
      },
      "text/plain": [
       "Epoch 2700/10000:   0%|          | 0/2 [00:00<?, ?batch/s]"
      ]
     },
     "metadata": {},
     "output_type": "display_data"
    },
    {
     "name": "stdout",
     "output_type": "stream",
     "text": [
      "test_loss=0.1489\n"
     ]
    },
    {
     "data": {
      "application/vnd.jupyter.widget-view+json": {
       "model_id": "b7740c35872e4c6b8f05d3fa6dc30f03",
       "version_major": 2,
       "version_minor": 0
      },
      "text/plain": [
       "Epoch 2750/10000:   0%|          | 0/2 [00:00<?, ?batch/s]"
      ]
     },
     "metadata": {},
     "output_type": "display_data"
    },
    {
     "name": "stdout",
     "output_type": "stream",
     "text": [
      "test_loss=0.0434\n"
     ]
    },
    {
     "data": {
      "application/vnd.jupyter.widget-view+json": {
       "model_id": "979a35bd66b646a994ccc18cca70a1fe",
       "version_major": 2,
       "version_minor": 0
      },
      "text/plain": [
       "Epoch 2800/10000:   0%|          | 0/2 [00:00<?, ?batch/s]"
      ]
     },
     "metadata": {},
     "output_type": "display_data"
    },
    {
     "name": "stdout",
     "output_type": "stream",
     "text": [
      "test_loss=0.1079\n"
     ]
    },
    {
     "data": {
      "application/vnd.jupyter.widget-view+json": {
       "model_id": "2a1b064b5ce444f48cf33ad8b18448cb",
       "version_major": 2,
       "version_minor": 0
      },
      "text/plain": [
       "Epoch 2850/10000:   0%|          | 0/2 [00:00<?, ?batch/s]"
      ]
     },
     "metadata": {},
     "output_type": "display_data"
    },
    {
     "name": "stdout",
     "output_type": "stream",
     "text": [
      "test_loss=0.0846\n"
     ]
    },
    {
     "data": {
      "application/vnd.jupyter.widget-view+json": {
       "model_id": "14225ce1b549433380bcad6815cd8269",
       "version_major": 2,
       "version_minor": 0
      },
      "text/plain": [
       "Epoch 2900/10000:   0%|          | 0/2 [00:00<?, ?batch/s]"
      ]
     },
     "metadata": {},
     "output_type": "display_data"
    },
    {
     "name": "stdout",
     "output_type": "stream",
     "text": [
      "test_loss=0.0521\n"
     ]
    },
    {
     "data": {
      "application/vnd.jupyter.widget-view+json": {
       "model_id": "3a4d971e23e447809b5eb881a3d1714a",
       "version_major": 2,
       "version_minor": 0
      },
      "text/plain": [
       "Epoch 2950/10000:   0%|          | 0/2 [00:00<?, ?batch/s]"
      ]
     },
     "metadata": {},
     "output_type": "display_data"
    },
    {
     "name": "stdout",
     "output_type": "stream",
     "text": [
      "test_loss=0.0433\n"
     ]
    },
    {
     "data": {
      "application/vnd.jupyter.widget-view+json": {
       "model_id": "d88bf02d918e4c72a4efb0f73149f296",
       "version_major": 2,
       "version_minor": 0
      },
      "text/plain": [
       "Epoch 3000/10000:   0%|          | 0/2 [00:00<?, ?batch/s]"
      ]
     },
     "metadata": {},
     "output_type": "display_data"
    },
    {
     "name": "stdout",
     "output_type": "stream",
     "text": [
      "test_loss=0.0744\n"
     ]
    },
    {
     "data": {
      "application/vnd.jupyter.widget-view+json": {
       "model_id": "6c8c3d00258d4b80977bb4db29005dc5",
       "version_major": 2,
       "version_minor": 0
      },
      "text/plain": [
       "Epoch 3050/10000:   0%|          | 0/2 [00:00<?, ?batch/s]"
      ]
     },
     "metadata": {},
     "output_type": "display_data"
    },
    {
     "name": "stdout",
     "output_type": "stream",
     "text": [
      "test_loss=0.1032\n"
     ]
    },
    {
     "data": {
      "application/vnd.jupyter.widget-view+json": {
       "model_id": "08524f6c52a5491e8958282bee73bea9",
       "version_major": 2,
       "version_minor": 0
      },
      "text/plain": [
       "Epoch 3100/10000:   0%|          | 0/2 [00:00<?, ?batch/s]"
      ]
     },
     "metadata": {},
     "output_type": "display_data"
    },
    {
     "name": "stdout",
     "output_type": "stream",
     "text": [
      "test_loss=0.1292\n"
     ]
    },
    {
     "data": {
      "application/vnd.jupyter.widget-view+json": {
       "model_id": "858718a2d3a547dcad8dbcebb1fe525b",
       "version_major": 2,
       "version_minor": 0
      },
      "text/plain": [
       "Epoch 3150/10000:   0%|          | 0/2 [00:00<?, ?batch/s]"
      ]
     },
     "metadata": {},
     "output_type": "display_data"
    },
    {
     "name": "stdout",
     "output_type": "stream",
     "text": [
      "test_loss=0.0896\n"
     ]
    },
    {
     "data": {
      "application/vnd.jupyter.widget-view+json": {
       "model_id": "dd1ca48453044f119887c98bffef4d28",
       "version_major": 2,
       "version_minor": 0
      },
      "text/plain": [
       "Epoch 3200/10000:   0%|          | 0/2 [00:00<?, ?batch/s]"
      ]
     },
     "metadata": {},
     "output_type": "display_data"
    },
    {
     "name": "stdout",
     "output_type": "stream",
     "text": [
      "test_loss=0.0305\n"
     ]
    },
    {
     "data": {
      "application/vnd.jupyter.widget-view+json": {
       "model_id": "36a728b1d51e461185c8699dee76c6c5",
       "version_major": 2,
       "version_minor": 0
      },
      "text/plain": [
       "Epoch 3250/10000:   0%|          | 0/2 [00:00<?, ?batch/s]"
      ]
     },
     "metadata": {},
     "output_type": "display_data"
    },
    {
     "name": "stdout",
     "output_type": "stream",
     "text": [
      "test_loss=0.1242\n"
     ]
    },
    {
     "data": {
      "application/vnd.jupyter.widget-view+json": {
       "model_id": "b7d9a38aaf5646829653367acd5023e5",
       "version_major": 2,
       "version_minor": 0
      },
      "text/plain": [
       "Epoch 3300/10000:   0%|          | 0/2 [00:00<?, ?batch/s]"
      ]
     },
     "metadata": {},
     "output_type": "display_data"
    },
    {
     "name": "stdout",
     "output_type": "stream",
     "text": [
      "test_loss=0.1104\n"
     ]
    },
    {
     "data": {
      "application/vnd.jupyter.widget-view+json": {
       "model_id": "719969a65437466f9fe2d6d505a2630a",
       "version_major": 2,
       "version_minor": 0
      },
      "text/plain": [
       "Epoch 3350/10000:   0%|          | 0/2 [00:00<?, ?batch/s]"
      ]
     },
     "metadata": {},
     "output_type": "display_data"
    },
    {
     "name": "stdout",
     "output_type": "stream",
     "text": [
      "test_loss=0.0493\n"
     ]
    },
    {
     "data": {
      "application/vnd.jupyter.widget-view+json": {
       "model_id": "6de2264f52d04cb8854e8581a978fc9e",
       "version_major": 2,
       "version_minor": 0
      },
      "text/plain": [
       "Epoch 3400/10000:   0%|          | 0/2 [00:00<?, ?batch/s]"
      ]
     },
     "metadata": {},
     "output_type": "display_data"
    },
    {
     "name": "stdout",
     "output_type": "stream",
     "text": [
      "test_loss=0.0136\n"
     ]
    },
    {
     "data": {
      "application/vnd.jupyter.widget-view+json": {
       "model_id": "a8cf167ee81e489e8b6a073318da63ed",
       "version_major": 2,
       "version_minor": 0
      },
      "text/plain": [
       "Epoch 3450/10000:   0%|          | 0/2 [00:00<?, ?batch/s]"
      ]
     },
     "metadata": {},
     "output_type": "display_data"
    },
    {
     "name": "stdout",
     "output_type": "stream",
     "text": [
      "test_loss=0.0579\n"
     ]
    },
    {
     "data": {
      "application/vnd.jupyter.widget-view+json": {
       "model_id": "7d6d8dc3009645a390ea85e272f88c5e",
       "version_major": 2,
       "version_minor": 0
      },
      "text/plain": [
       "Epoch 3500/10000:   0%|          | 0/2 [00:00<?, ?batch/s]"
      ]
     },
     "metadata": {},
     "output_type": "display_data"
    },
    {
     "name": "stdout",
     "output_type": "stream",
     "text": [
      "test_loss=0.1299\n"
     ]
    },
    {
     "data": {
      "application/vnd.jupyter.widget-view+json": {
       "model_id": "71024bd6178c44fcbbc08c9b23f480cd",
       "version_major": 2,
       "version_minor": 0
      },
      "text/plain": [
       "Epoch 3550/10000:   0%|          | 0/2 [00:00<?, ?batch/s]"
      ]
     },
     "metadata": {},
     "output_type": "display_data"
    },
    {
     "name": "stdout",
     "output_type": "stream",
     "text": [
      "test_loss=0.1070\n"
     ]
    },
    {
     "data": {
      "application/vnd.jupyter.widget-view+json": {
       "model_id": "fe507bbe202542ff9fbfa3bb280d48dd",
       "version_major": 2,
       "version_minor": 0
      },
      "text/plain": [
       "Epoch 3600/10000:   0%|          | 0/2 [00:00<?, ?batch/s]"
      ]
     },
     "metadata": {},
     "output_type": "display_data"
    },
    {
     "name": "stdout",
     "output_type": "stream",
     "text": [
      "test_loss=0.0478\n"
     ]
    },
    {
     "data": {
      "application/vnd.jupyter.widget-view+json": {
       "model_id": "adbf088c5f5344d48e589670ca52d2ff",
       "version_major": 2,
       "version_minor": 0
      },
      "text/plain": [
       "Epoch 3650/10000:   0%|          | 0/2 [00:00<?, ?batch/s]"
      ]
     },
     "metadata": {},
     "output_type": "display_data"
    },
    {
     "name": "stdout",
     "output_type": "stream",
     "text": [
      "test_loss=0.0285\n"
     ]
    },
    {
     "data": {
      "application/vnd.jupyter.widget-view+json": {
       "model_id": "98bf6cfd36a74567b10461dad3e200d0",
       "version_major": 2,
       "version_minor": 0
      },
      "text/plain": [
       "Epoch 3700/10000:   0%|          | 0/2 [00:00<?, ?batch/s]"
      ]
     },
     "metadata": {},
     "output_type": "display_data"
    },
    {
     "name": "stdout",
     "output_type": "stream",
     "text": [
      "test_loss=0.0121\n"
     ]
    },
    {
     "data": {
      "application/vnd.jupyter.widget-view+json": {
       "model_id": "c5ab5d959b404d91a8d0cb10071571e7",
       "version_major": 2,
       "version_minor": 0
      },
      "text/plain": [
       "Epoch 3750/10000:   0%|          | 0/2 [00:00<?, ?batch/s]"
      ]
     },
     "metadata": {},
     "output_type": "display_data"
    },
    {
     "name": "stdout",
     "output_type": "stream",
     "text": [
      "test_loss=0.0271\n"
     ]
    },
    {
     "data": {
      "application/vnd.jupyter.widget-view+json": {
       "model_id": "e94c6162f58b43b49af1c56fdb0ee503",
       "version_major": 2,
       "version_minor": 0
      },
      "text/plain": [
       "Epoch 3800/10000:   0%|          | 0/2 [00:00<?, ?batch/s]"
      ]
     },
     "metadata": {},
     "output_type": "display_data"
    },
    {
     "name": "stdout",
     "output_type": "stream",
     "text": [
      "test_loss=0.0320\n"
     ]
    },
    {
     "data": {
      "application/vnd.jupyter.widget-view+json": {
       "model_id": "ef6ac56bbdcd4e13882215f3be1e8120",
       "version_major": 2,
       "version_minor": 0
      },
      "text/plain": [
       "Epoch 3850/10000:   0%|          | 0/2 [00:00<?, ?batch/s]"
      ]
     },
     "metadata": {},
     "output_type": "display_data"
    },
    {
     "name": "stdout",
     "output_type": "stream",
     "text": [
      "test_loss=0.0775\n"
     ]
    },
    {
     "data": {
      "application/vnd.jupyter.widget-view+json": {
       "model_id": "6ed24fecb2cf4a48be23ca8a89f6a7a0",
       "version_major": 2,
       "version_minor": 0
      },
      "text/plain": [
       "Epoch 3900/10000:   0%|          | 0/2 [00:00<?, ?batch/s]"
      ]
     },
     "metadata": {},
     "output_type": "display_data"
    },
    {
     "name": "stdout",
     "output_type": "stream",
     "text": [
      "test_loss=0.0335\n"
     ]
    },
    {
     "data": {
      "application/vnd.jupyter.widget-view+json": {
       "model_id": "10b51c35d8cc4c7ab2166e34393af3b0",
       "version_major": 2,
       "version_minor": 0
      },
      "text/plain": [
       "Epoch 3950/10000:   0%|          | 0/2 [00:00<?, ?batch/s]"
      ]
     },
     "metadata": {},
     "output_type": "display_data"
    },
    {
     "name": "stdout",
     "output_type": "stream",
     "text": [
      "test_loss=0.0429\n"
     ]
    },
    {
     "data": {
      "application/vnd.jupyter.widget-view+json": {
       "model_id": "a385a2f420e948f3b4ed6a4661f7d38f",
       "version_major": 2,
       "version_minor": 0
      },
      "text/plain": [
       "Epoch 4000/10000:   0%|          | 0/2 [00:00<?, ?batch/s]"
      ]
     },
     "metadata": {},
     "output_type": "display_data"
    },
    {
     "name": "stdout",
     "output_type": "stream",
     "text": [
      "test_loss=0.0402\n"
     ]
    },
    {
     "data": {
      "application/vnd.jupyter.widget-view+json": {
       "model_id": "414f52d50acd4fe7a2c167bc8cb2d8e2",
       "version_major": 2,
       "version_minor": 0
      },
      "text/plain": [
       "Epoch 4050/10000:   0%|          | 0/2 [00:00<?, ?batch/s]"
      ]
     },
     "metadata": {},
     "output_type": "display_data"
    },
    {
     "name": "stdout",
     "output_type": "stream",
     "text": [
      "test_loss=0.0408\n"
     ]
    },
    {
     "data": {
      "application/vnd.jupyter.widget-view+json": {
       "model_id": "a3a7d0050e02403094cede687730729f",
       "version_major": 2,
       "version_minor": 0
      },
      "text/plain": [
       "Epoch 4100/10000:   0%|          | 0/2 [00:00<?, ?batch/s]"
      ]
     },
     "metadata": {},
     "output_type": "display_data"
    },
    {
     "name": "stdout",
     "output_type": "stream",
     "text": [
      "test_loss=0.1067\n"
     ]
    },
    {
     "data": {
      "application/vnd.jupyter.widget-view+json": {
       "model_id": "9ebc6f76288f4360b12603aa9e0ad1c7",
       "version_major": 2,
       "version_minor": 0
      },
      "text/plain": [
       "Epoch 4150/10000:   0%|          | 0/2 [00:00<?, ?batch/s]"
      ]
     },
     "metadata": {},
     "output_type": "display_data"
    },
    {
     "name": "stdout",
     "output_type": "stream",
     "text": [
      "test_loss=0.0326\n"
     ]
    },
    {
     "data": {
      "application/vnd.jupyter.widget-view+json": {
       "model_id": "afd000d9d7da40488cbfe71a0957c7da",
       "version_major": 2,
       "version_minor": 0
      },
      "text/plain": [
       "Epoch 4200/10000:   0%|          | 0/2 [00:00<?, ?batch/s]"
      ]
     },
     "metadata": {},
     "output_type": "display_data"
    },
    {
     "name": "stdout",
     "output_type": "stream",
     "text": [
      "test_loss=0.1167\n"
     ]
    },
    {
     "data": {
      "application/vnd.jupyter.widget-view+json": {
       "model_id": "bb430f23557347b78f97cdab35aa7535",
       "version_major": 2,
       "version_minor": 0
      },
      "text/plain": [
       "Epoch 4250/10000:   0%|          | 0/2 [00:00<?, ?batch/s]"
      ]
     },
     "metadata": {},
     "output_type": "display_data"
    },
    {
     "name": "stdout",
     "output_type": "stream",
     "text": [
      "test_loss=0.0454\n"
     ]
    },
    {
     "data": {
      "application/vnd.jupyter.widget-view+json": {
       "model_id": "631216cf11764801afd436984d946c5f",
       "version_major": 2,
       "version_minor": 0
      },
      "text/plain": [
       "Epoch 4300/10000:   0%|          | 0/2 [00:00<?, ?batch/s]"
      ]
     },
     "metadata": {},
     "output_type": "display_data"
    },
    {
     "name": "stdout",
     "output_type": "stream",
     "text": [
      "test_loss=0.0461\n"
     ]
    },
    {
     "data": {
      "application/vnd.jupyter.widget-view+json": {
       "model_id": "14d8061330c94fdebbbcec4d20ac6eaf",
       "version_major": 2,
       "version_minor": 0
      },
      "text/plain": [
       "Epoch 4350/10000:   0%|          | 0/2 [00:00<?, ?batch/s]"
      ]
     },
     "metadata": {},
     "output_type": "display_data"
    },
    {
     "name": "stdout",
     "output_type": "stream",
     "text": [
      "test_loss=0.0920\n"
     ]
    },
    {
     "data": {
      "application/vnd.jupyter.widget-view+json": {
       "model_id": "cccd0e074897439c8f9a474fd9e68f8a",
       "version_major": 2,
       "version_minor": 0
      },
      "text/plain": [
       "Epoch 4400/10000:   0%|          | 0/2 [00:00<?, ?batch/s]"
      ]
     },
     "metadata": {},
     "output_type": "display_data"
    },
    {
     "name": "stdout",
     "output_type": "stream",
     "text": [
      "test_loss=0.0811\n"
     ]
    },
    {
     "data": {
      "application/vnd.jupyter.widget-view+json": {
       "model_id": "bd5e8abb645f4f01878183e1cdd4a39c",
       "version_major": 2,
       "version_minor": 0
      },
      "text/plain": [
       "Epoch 4450/10000:   0%|          | 0/2 [00:00<?, ?batch/s]"
      ]
     },
     "metadata": {},
     "output_type": "display_data"
    },
    {
     "name": "stdout",
     "output_type": "stream",
     "text": [
      "test_loss=0.0416\n"
     ]
    },
    {
     "data": {
      "application/vnd.jupyter.widget-view+json": {
       "model_id": "62c3b49fe4b64ea4b6cf1d181f21955b",
       "version_major": 2,
       "version_minor": 0
      },
      "text/plain": [
       "Epoch 4500/10000:   0%|          | 0/2 [00:00<?, ?batch/s]"
      ]
     },
     "metadata": {},
     "output_type": "display_data"
    },
    {
     "name": "stdout",
     "output_type": "stream",
     "text": [
      "test_loss=0.0278\n"
     ]
    },
    {
     "data": {
      "application/vnd.jupyter.widget-view+json": {
       "model_id": "7c0a03b17c2d42d4b8cd4788d2a390cc",
       "version_major": 2,
       "version_minor": 0
      },
      "text/plain": [
       "Epoch 4550/10000:   0%|          | 0/2 [00:00<?, ?batch/s]"
      ]
     },
     "metadata": {},
     "output_type": "display_data"
    },
    {
     "name": "stdout",
     "output_type": "stream",
     "text": [
      "test_loss=0.0374\n"
     ]
    },
    {
     "data": {
      "application/vnd.jupyter.widget-view+json": {
       "model_id": "9c4b213ac44745be8efaa23ee8d5b4a0",
       "version_major": 2,
       "version_minor": 0
      },
      "text/plain": [
       "Epoch 4600/10000:   0%|          | 0/2 [00:00<?, ?batch/s]"
      ]
     },
     "metadata": {},
     "output_type": "display_data"
    },
    {
     "name": "stdout",
     "output_type": "stream",
     "text": [
      "test_loss=0.0954\n"
     ]
    },
    {
     "data": {
      "application/vnd.jupyter.widget-view+json": {
       "model_id": "b52df47f83bb47f69f3d190d343d2171",
       "version_major": 2,
       "version_minor": 0
      },
      "text/plain": [
       "Epoch 4650/10000:   0%|          | 0/2 [00:00<?, ?batch/s]"
      ]
     },
     "metadata": {},
     "output_type": "display_data"
    },
    {
     "name": "stdout",
     "output_type": "stream",
     "text": [
      "test_loss=0.0215\n"
     ]
    },
    {
     "data": {
      "application/vnd.jupyter.widget-view+json": {
       "model_id": "f2a27721aea3401387303d30978161d2",
       "version_major": 2,
       "version_minor": 0
      },
      "text/plain": [
       "Epoch 4700/10000:   0%|          | 0/2 [00:00<?, ?batch/s]"
      ]
     },
     "metadata": {},
     "output_type": "display_data"
    },
    {
     "name": "stdout",
     "output_type": "stream",
     "text": [
      "test_loss=0.0101\n"
     ]
    },
    {
     "data": {
      "application/vnd.jupyter.widget-view+json": {
       "model_id": "a68372dc18204b79a2ce92628e90a60f",
       "version_major": 2,
       "version_minor": 0
      },
      "text/plain": [
       "Epoch 4750/10000:   0%|          | 0/2 [00:00<?, ?batch/s]"
      ]
     },
     "metadata": {},
     "output_type": "display_data"
    },
    {
     "name": "stdout",
     "output_type": "stream",
     "text": [
      "test_loss=0.0247\n"
     ]
    },
    {
     "data": {
      "application/vnd.jupyter.widget-view+json": {
       "model_id": "131d053505824b0aaea2ba7fa38dbce3",
       "version_major": 2,
       "version_minor": 0
      },
      "text/plain": [
       "Epoch 4800/10000:   0%|          | 0/2 [00:00<?, ?batch/s]"
      ]
     },
     "metadata": {},
     "output_type": "display_data"
    },
    {
     "name": "stdout",
     "output_type": "stream",
     "text": [
      "test_loss=0.0467\n"
     ]
    },
    {
     "data": {
      "application/vnd.jupyter.widget-view+json": {
       "model_id": "7e1bbae37c4e48bea4ad34a9921b250e",
       "version_major": 2,
       "version_minor": 0
      },
      "text/plain": [
       "Epoch 4850/10000:   0%|          | 0/2 [00:00<?, ?batch/s]"
      ]
     },
     "metadata": {},
     "output_type": "display_data"
    },
    {
     "name": "stdout",
     "output_type": "stream",
     "text": [
      "test_loss=0.1054\n"
     ]
    },
    {
     "data": {
      "application/vnd.jupyter.widget-view+json": {
       "model_id": "a1ff4cb37ad94de784b2f9eca0d46637",
       "version_major": 2,
       "version_minor": 0
      },
      "text/plain": [
       "Epoch 4900/10000:   0%|          | 0/2 [00:00<?, ?batch/s]"
      ]
     },
     "metadata": {},
     "output_type": "display_data"
    },
    {
     "name": "stdout",
     "output_type": "stream",
     "text": [
      "test_loss=0.1106\n"
     ]
    },
    {
     "data": {
      "application/vnd.jupyter.widget-view+json": {
       "model_id": "8fcc459003a04683bc48ce1c5ca2d30d",
       "version_major": 2,
       "version_minor": 0
      },
      "text/plain": [
       "Epoch 4950/10000:   0%|          | 0/2 [00:00<?, ?batch/s]"
      ]
     },
     "metadata": {},
     "output_type": "display_data"
    },
    {
     "name": "stdout",
     "output_type": "stream",
     "text": [
      "test_loss=0.0745\n"
     ]
    },
    {
     "data": {
      "application/vnd.jupyter.widget-view+json": {
       "model_id": "3cd2e87691dc4c14a9f90034a54dac42",
       "version_major": 2,
       "version_minor": 0
      },
      "text/plain": [
       "Epoch 5000/10000:   0%|          | 0/2 [00:00<?, ?batch/s]"
      ]
     },
     "metadata": {},
     "output_type": "display_data"
    },
    {
     "name": "stdout",
     "output_type": "stream",
     "text": [
      "test_loss=0.0700\n"
     ]
    },
    {
     "data": {
      "application/vnd.jupyter.widget-view+json": {
       "model_id": "d660cac7822a464d9f1086b87c433e9d",
       "version_major": 2,
       "version_minor": 0
      },
      "text/plain": [
       "Epoch 5050/10000:   0%|          | 0/2 [00:00<?, ?batch/s]"
      ]
     },
     "metadata": {},
     "output_type": "display_data"
    },
    {
     "name": "stdout",
     "output_type": "stream",
     "text": [
      "test_loss=0.0262\n"
     ]
    },
    {
     "data": {
      "application/vnd.jupyter.widget-view+json": {
       "model_id": "86a29694542a473dadac50ed4522eae3",
       "version_major": 2,
       "version_minor": 0
      },
      "text/plain": [
       "Epoch 5100/10000:   0%|          | 0/2 [00:00<?, ?batch/s]"
      ]
     },
     "metadata": {},
     "output_type": "display_data"
    },
    {
     "name": "stdout",
     "output_type": "stream",
     "text": [
      "test_loss=0.0290\n"
     ]
    },
    {
     "data": {
      "application/vnd.jupyter.widget-view+json": {
       "model_id": "64313e9b935f4c93a49a9aa18ac97ac1",
       "version_major": 2,
       "version_minor": 0
      },
      "text/plain": [
       "Epoch 5150/10000:   0%|          | 0/2 [00:00<?, ?batch/s]"
      ]
     },
     "metadata": {},
     "output_type": "display_data"
    },
    {
     "name": "stdout",
     "output_type": "stream",
     "text": [
      "test_loss=0.0820\n"
     ]
    },
    {
     "data": {
      "application/vnd.jupyter.widget-view+json": {
       "model_id": "e566689d00ca4b1f887ebb1220df1ee9",
       "version_major": 2,
       "version_minor": 0
      },
      "text/plain": [
       "Epoch 5200/10000:   0%|          | 0/2 [00:00<?, ?batch/s]"
      ]
     },
     "metadata": {},
     "output_type": "display_data"
    },
    {
     "name": "stdout",
     "output_type": "stream",
     "text": [
      "test_loss=0.0604\n"
     ]
    },
    {
     "data": {
      "application/vnd.jupyter.widget-view+json": {
       "model_id": "e2a6bb9c98e24724883c7e9ff25d52e1",
       "version_major": 2,
       "version_minor": 0
      },
      "text/plain": [
       "Epoch 5250/10000:   0%|          | 0/2 [00:00<?, ?batch/s]"
      ]
     },
     "metadata": {},
     "output_type": "display_data"
    },
    {
     "name": "stdout",
     "output_type": "stream",
     "text": [
      "test_loss=0.0247\n"
     ]
    },
    {
     "data": {
      "application/vnd.jupyter.widget-view+json": {
       "model_id": "fe7c674fbbd340f89d31e9d12a8e03b0",
       "version_major": 2,
       "version_minor": 0
      },
      "text/plain": [
       "Epoch 5300/10000:   0%|          | 0/2 [00:00<?, ?batch/s]"
      ]
     },
     "metadata": {},
     "output_type": "display_data"
    },
    {
     "name": "stdout",
     "output_type": "stream",
     "text": [
      "test_loss=0.0377\n"
     ]
    },
    {
     "data": {
      "application/vnd.jupyter.widget-view+json": {
       "model_id": "2e5580f3957f45acadbbe245f6b0df08",
       "version_major": 2,
       "version_minor": 0
      },
      "text/plain": [
       "Epoch 5350/10000:   0%|          | 0/2 [00:00<?, ?batch/s]"
      ]
     },
     "metadata": {},
     "output_type": "display_data"
    },
    {
     "name": "stdout",
     "output_type": "stream",
     "text": [
      "test_loss=0.0765\n"
     ]
    },
    {
     "data": {
      "application/vnd.jupyter.widget-view+json": {
       "model_id": "b082f2a9ec6d48ea98a56c6f570aa260",
       "version_major": 2,
       "version_minor": 0
      },
      "text/plain": [
       "Epoch 5400/10000:   0%|          | 0/2 [00:00<?, ?batch/s]"
      ]
     },
     "metadata": {},
     "output_type": "display_data"
    },
    {
     "name": "stdout",
     "output_type": "stream",
     "text": [
      "test_loss=0.0266\n"
     ]
    },
    {
     "data": {
      "application/vnd.jupyter.widget-view+json": {
       "model_id": "5f3295fdb1f640a6adc0fe9208f355cb",
       "version_major": 2,
       "version_minor": 0
      },
      "text/plain": [
       "Epoch 5450/10000:   0%|          | 0/2 [00:00<?, ?batch/s]"
      ]
     },
     "metadata": {},
     "output_type": "display_data"
    },
    {
     "name": "stdout",
     "output_type": "stream",
     "text": [
      "test_loss=0.0177\n"
     ]
    },
    {
     "data": {
      "application/vnd.jupyter.widget-view+json": {
       "model_id": "46fca6f0611f4d06bd85141c568b803a",
       "version_major": 2,
       "version_minor": 0
      },
      "text/plain": [
       "Epoch 5500/10000:   0%|          | 0/2 [00:00<?, ?batch/s]"
      ]
     },
     "metadata": {},
     "output_type": "display_data"
    },
    {
     "name": "stdout",
     "output_type": "stream",
     "text": [
      "test_loss=0.0854\n"
     ]
    },
    {
     "data": {
      "application/vnd.jupyter.widget-view+json": {
       "model_id": "31e546132e8e451e8da17ed7181404c5",
       "version_major": 2,
       "version_minor": 0
      },
      "text/plain": [
       "Epoch 5550/10000:   0%|          | 0/2 [00:00<?, ?batch/s]"
      ]
     },
     "metadata": {},
     "output_type": "display_data"
    },
    {
     "name": "stdout",
     "output_type": "stream",
     "text": [
      "test_loss=0.0936\n"
     ]
    },
    {
     "data": {
      "application/vnd.jupyter.widget-view+json": {
       "model_id": "5992b615018d48a8be0fdb76f91655b9",
       "version_major": 2,
       "version_minor": 0
      },
      "text/plain": [
       "Epoch 5600/10000:   0%|          | 0/2 [00:00<?, ?batch/s]"
      ]
     },
     "metadata": {},
     "output_type": "display_data"
    },
    {
     "name": "stdout",
     "output_type": "stream",
     "text": [
      "test_loss=0.0509\n"
     ]
    },
    {
     "data": {
      "application/vnd.jupyter.widget-view+json": {
       "model_id": "11c451a7c345481a84f941e9e1d8d0e3",
       "version_major": 2,
       "version_minor": 0
      },
      "text/plain": [
       "Epoch 5650/10000:   0%|          | 0/2 [00:00<?, ?batch/s]"
      ]
     },
     "metadata": {},
     "output_type": "display_data"
    },
    {
     "name": "stdout",
     "output_type": "stream",
     "text": [
      "test_loss=0.0472\n"
     ]
    },
    {
     "data": {
      "application/vnd.jupyter.widget-view+json": {
       "model_id": "6f0fcafde25f46ccaa2973b07032b482",
       "version_major": 2,
       "version_minor": 0
      },
      "text/plain": [
       "Epoch 5700/10000:   0%|          | 0/2 [00:00<?, ?batch/s]"
      ]
     },
     "metadata": {},
     "output_type": "display_data"
    },
    {
     "name": "stdout",
     "output_type": "stream",
     "text": [
      "test_loss=0.0478\n"
     ]
    },
    {
     "data": {
      "application/vnd.jupyter.widget-view+json": {
       "model_id": "38426485035246cb894e6e8e4320a959",
       "version_major": 2,
       "version_minor": 0
      },
      "text/plain": [
       "Epoch 5750/10000:   0%|          | 0/2 [00:00<?, ?batch/s]"
      ]
     },
     "metadata": {},
     "output_type": "display_data"
    },
    {
     "name": "stdout",
     "output_type": "stream",
     "text": [
      "test_loss=0.0186\n"
     ]
    },
    {
     "data": {
      "application/vnd.jupyter.widget-view+json": {
       "model_id": "fccabec193f64769baded31df3e2aeed",
       "version_major": 2,
       "version_minor": 0
      },
      "text/plain": [
       "Epoch 5800/10000:   0%|          | 0/2 [00:00<?, ?batch/s]"
      ]
     },
     "metadata": {},
     "output_type": "display_data"
    },
    {
     "name": "stdout",
     "output_type": "stream",
     "text": [
      "test_loss=0.0161\n"
     ]
    },
    {
     "data": {
      "application/vnd.jupyter.widget-view+json": {
       "model_id": "10cfdc645de94e9981f79fb6b1e5f7e0",
       "version_major": 2,
       "version_minor": 0
      },
      "text/plain": [
       "Epoch 5850/10000:   0%|          | 0/2 [00:00<?, ?batch/s]"
      ]
     },
     "metadata": {},
     "output_type": "display_data"
    },
    {
     "name": "stdout",
     "output_type": "stream",
     "text": [
      "test_loss=0.0395\n"
     ]
    },
    {
     "data": {
      "application/vnd.jupyter.widget-view+json": {
       "model_id": "0f2b773c9fbc456e9b0de70793fb1d87",
       "version_major": 2,
       "version_minor": 0
      },
      "text/plain": [
       "Epoch 5900/10000:   0%|          | 0/2 [00:00<?, ?batch/s]"
      ]
     },
     "metadata": {},
     "output_type": "display_data"
    },
    {
     "name": "stdout",
     "output_type": "stream",
     "text": [
      "test_loss=0.0231\n"
     ]
    },
    {
     "data": {
      "application/vnd.jupyter.widget-view+json": {
       "model_id": "61eea188d89a435d97133622650fdefc",
       "version_major": 2,
       "version_minor": 0
      },
      "text/plain": [
       "Epoch 5950/10000:   0%|          | 0/2 [00:00<?, ?batch/s]"
      ]
     },
     "metadata": {},
     "output_type": "display_data"
    },
    {
     "name": "stdout",
     "output_type": "stream",
     "text": [
      "test_loss=0.0170\n"
     ]
    },
    {
     "data": {
      "application/vnd.jupyter.widget-view+json": {
       "model_id": "4139d36bfef348d2960f26413316196e",
       "version_major": 2,
       "version_minor": 0
      },
      "text/plain": [
       "Epoch 6000/10000:   0%|          | 0/2 [00:00<?, ?batch/s]"
      ]
     },
     "metadata": {},
     "output_type": "display_data"
    },
    {
     "name": "stdout",
     "output_type": "stream",
     "text": [
      "test_loss=0.0474\n"
     ]
    },
    {
     "data": {
      "application/vnd.jupyter.widget-view+json": {
       "model_id": "086455acc9754666bf5d6f15785dccd3",
       "version_major": 2,
       "version_minor": 0
      },
      "text/plain": [
       "Epoch 6050/10000:   0%|          | 0/2 [00:00<?, ?batch/s]"
      ]
     },
     "metadata": {},
     "output_type": "display_data"
    },
    {
     "name": "stdout",
     "output_type": "stream",
     "text": [
      "test_loss=0.1096\n"
     ]
    },
    {
     "data": {
      "application/vnd.jupyter.widget-view+json": {
       "model_id": "94f849a7d6064cb4b617d8f4924269c0",
       "version_major": 2,
       "version_minor": 0
      },
      "text/plain": [
       "Epoch 6100/10000:   0%|          | 0/2 [00:00<?, ?batch/s]"
      ]
     },
     "metadata": {},
     "output_type": "display_data"
    },
    {
     "name": "stdout",
     "output_type": "stream",
     "text": [
      "test_loss=0.0364\n"
     ]
    },
    {
     "data": {
      "application/vnd.jupyter.widget-view+json": {
       "model_id": "d5bc97bd3cc24a52a4ae1eabf2ce56d3",
       "version_major": 2,
       "version_minor": 0
      },
      "text/plain": [
       "Epoch 6150/10000:   0%|          | 0/2 [00:00<?, ?batch/s]"
      ]
     },
     "metadata": {},
     "output_type": "display_data"
    },
    {
     "name": "stdout",
     "output_type": "stream",
     "text": [
      "test_loss=0.0223\n"
     ]
    },
    {
     "data": {
      "application/vnd.jupyter.widget-view+json": {
       "model_id": "9939a08ee28b42f5b40ed8a167843faa",
       "version_major": 2,
       "version_minor": 0
      },
      "text/plain": [
       "Epoch 6200/10000:   0%|          | 0/2 [00:00<?, ?batch/s]"
      ]
     },
     "metadata": {},
     "output_type": "display_data"
    },
    {
     "name": "stdout",
     "output_type": "stream",
     "text": [
      "test_loss=0.0132\n"
     ]
    },
    {
     "data": {
      "application/vnd.jupyter.widget-view+json": {
       "model_id": "f7cdfbeaa25d4b758033358309718a9d",
       "version_major": 2,
       "version_minor": 0
      },
      "text/plain": [
       "Epoch 6250/10000:   0%|          | 0/2 [00:00<?, ?batch/s]"
      ]
     },
     "metadata": {},
     "output_type": "display_data"
    },
    {
     "name": "stdout",
     "output_type": "stream",
     "text": [
      "test_loss=0.0267\n"
     ]
    },
    {
     "data": {
      "application/vnd.jupyter.widget-view+json": {
       "model_id": "0f412f653650462cbfa7a56b194302d4",
       "version_major": 2,
       "version_minor": 0
      },
      "text/plain": [
       "Epoch 6300/10000:   0%|          | 0/2 [00:00<?, ?batch/s]"
      ]
     },
     "metadata": {},
     "output_type": "display_data"
    },
    {
     "name": "stdout",
     "output_type": "stream",
     "text": [
      "test_loss=0.0558\n"
     ]
    },
    {
     "data": {
      "application/vnd.jupyter.widget-view+json": {
       "model_id": "f0257f4b0da14cef9e76360d1ff13272",
       "version_major": 2,
       "version_minor": 0
      },
      "text/plain": [
       "Epoch 6350/10000:   0%|          | 0/2 [00:00<?, ?batch/s]"
      ]
     },
     "metadata": {},
     "output_type": "display_data"
    },
    {
     "name": "stdout",
     "output_type": "stream",
     "text": [
      "test_loss=0.0275\n"
     ]
    },
    {
     "data": {
      "application/vnd.jupyter.widget-view+json": {
       "model_id": "e7192eefa3d54bc7804ab98ddc923edf",
       "version_major": 2,
       "version_minor": 0
      },
      "text/plain": [
       "Epoch 6400/10000:   0%|          | 0/2 [00:00<?, ?batch/s]"
      ]
     },
     "metadata": {},
     "output_type": "display_data"
    },
    {
     "name": "stdout",
     "output_type": "stream",
     "text": [
      "test_loss=0.0118\n"
     ]
    },
    {
     "data": {
      "application/vnd.jupyter.widget-view+json": {
       "model_id": "47339efb64944c5d81a05911fb4bb4f2",
       "version_major": 2,
       "version_minor": 0
      },
      "text/plain": [
       "Epoch 6450/10000:   0%|          | 0/2 [00:00<?, ?batch/s]"
      ]
     },
     "metadata": {},
     "output_type": "display_data"
    },
    {
     "name": "stdout",
     "output_type": "stream",
     "text": [
      "test_loss=0.0696\n"
     ]
    },
    {
     "data": {
      "application/vnd.jupyter.widget-view+json": {
       "model_id": "b47a32595d314085ae3d12dae997fd24",
       "version_major": 2,
       "version_minor": 0
      },
      "text/plain": [
       "Epoch 6500/10000:   0%|          | 0/2 [00:00<?, ?batch/s]"
      ]
     },
     "metadata": {},
     "output_type": "display_data"
    },
    {
     "name": "stdout",
     "output_type": "stream",
     "text": [
      "test_loss=0.0230\n"
     ]
    },
    {
     "data": {
      "application/vnd.jupyter.widget-view+json": {
       "model_id": "0ceafa614d7e4479995892d7500fbf4e",
       "version_major": 2,
       "version_minor": 0
      },
      "text/plain": [
       "Epoch 6550/10000:   0%|          | 0/2 [00:00<?, ?batch/s]"
      ]
     },
     "metadata": {},
     "output_type": "display_data"
    },
    {
     "name": "stdout",
     "output_type": "stream",
     "text": [
      "test_loss=0.0377\n"
     ]
    },
    {
     "data": {
      "application/vnd.jupyter.widget-view+json": {
       "model_id": "3b50f496f02d4d2aac809bced8f94c22",
       "version_major": 2,
       "version_minor": 0
      },
      "text/plain": [
       "Epoch 6600/10000:   0%|          | 0/2 [00:00<?, ?batch/s]"
      ]
     },
     "metadata": {},
     "output_type": "display_data"
    },
    {
     "name": "stdout",
     "output_type": "stream",
     "text": [
      "test_loss=0.0339\n"
     ]
    },
    {
     "data": {
      "application/vnd.jupyter.widget-view+json": {
       "model_id": "1e845416133c48bba2a897bc083f7ad6",
       "version_major": 2,
       "version_minor": 0
      },
      "text/plain": [
       "Epoch 6650/10000:   0%|          | 0/2 [00:00<?, ?batch/s]"
      ]
     },
     "metadata": {},
     "output_type": "display_data"
    },
    {
     "name": "stdout",
     "output_type": "stream",
     "text": [
      "test_loss=0.0284\n"
     ]
    },
    {
     "data": {
      "application/vnd.jupyter.widget-view+json": {
       "model_id": "0642048e5a774ddfa460d2a2a804dae0",
       "version_major": 2,
       "version_minor": 0
      },
      "text/plain": [
       "Epoch 6700/10000:   0%|          | 0/2 [00:00<?, ?batch/s]"
      ]
     },
     "metadata": {},
     "output_type": "display_data"
    },
    {
     "name": "stdout",
     "output_type": "stream",
     "text": [
      "test_loss=0.0363\n"
     ]
    },
    {
     "data": {
      "application/vnd.jupyter.widget-view+json": {
       "model_id": "2dbefd75f404496d8e493e72125f394b",
       "version_major": 2,
       "version_minor": 0
      },
      "text/plain": [
       "Epoch 6750/10000:   0%|          | 0/2 [00:00<?, ?batch/s]"
      ]
     },
     "metadata": {},
     "output_type": "display_data"
    },
    {
     "name": "stdout",
     "output_type": "stream",
     "text": [
      "test_loss=0.0192\n"
     ]
    },
    {
     "data": {
      "application/vnd.jupyter.widget-view+json": {
       "model_id": "a106302712ba461da53221982e5ea557",
       "version_major": 2,
       "version_minor": 0
      },
      "text/plain": [
       "Epoch 6800/10000:   0%|          | 0/2 [00:00<?, ?batch/s]"
      ]
     },
     "metadata": {},
     "output_type": "display_data"
    },
    {
     "name": "stdout",
     "output_type": "stream",
     "text": [
      "test_loss=0.0137\n"
     ]
    },
    {
     "data": {
      "application/vnd.jupyter.widget-view+json": {
       "model_id": "e5f7286ece6b4eb196cd26b7be69e2a8",
       "version_major": 2,
       "version_minor": 0
      },
      "text/plain": [
       "Epoch 6850/10000:   0%|          | 0/2 [00:00<?, ?batch/s]"
      ]
     },
     "metadata": {},
     "output_type": "display_data"
    },
    {
     "name": "stdout",
     "output_type": "stream",
     "text": [
      "test_loss=0.0123\n"
     ]
    },
    {
     "data": {
      "application/vnd.jupyter.widget-view+json": {
       "model_id": "ec2e64f18ff84e668b46e06ffa4b964a",
       "version_major": 2,
       "version_minor": 0
      },
      "text/plain": [
       "Epoch 6900/10000:   0%|          | 0/2 [00:00<?, ?batch/s]"
      ]
     },
     "metadata": {},
     "output_type": "display_data"
    },
    {
     "name": "stdout",
     "output_type": "stream",
     "text": [
      "test_loss=0.0095\n"
     ]
    },
    {
     "data": {
      "application/vnd.jupyter.widget-view+json": {
       "model_id": "f8674e64326f4c8087b50ae6ee85969c",
       "version_major": 2,
       "version_minor": 0
      },
      "text/plain": [
       "Epoch 6950/10000:   0%|          | 0/2 [00:00<?, ?batch/s]"
      ]
     },
     "metadata": {},
     "output_type": "display_data"
    },
    {
     "name": "stdout",
     "output_type": "stream",
     "text": [
      "test_loss=0.0257\n"
     ]
    },
    {
     "data": {
      "application/vnd.jupyter.widget-view+json": {
       "model_id": "2c56feffc01947a4b24df41e4645e58e",
       "version_major": 2,
       "version_minor": 0
      },
      "text/plain": [
       "Epoch 7000/10000:   0%|          | 0/2 [00:00<?, ?batch/s]"
      ]
     },
     "metadata": {},
     "output_type": "display_data"
    },
    {
     "name": "stdout",
     "output_type": "stream",
     "text": [
      "test_loss=0.0130\n"
     ]
    },
    {
     "data": {
      "application/vnd.jupyter.widget-view+json": {
       "model_id": "4dd992eb8df9458b9a1c9d2770a6057b",
       "version_major": 2,
       "version_minor": 0
      },
      "text/plain": [
       "Epoch 7050/10000:   0%|          | 0/2 [00:00<?, ?batch/s]"
      ]
     },
     "metadata": {},
     "output_type": "display_data"
    },
    {
     "name": "stdout",
     "output_type": "stream",
     "text": [
      "test_loss=0.0084\n"
     ]
    },
    {
     "data": {
      "application/vnd.jupyter.widget-view+json": {
       "model_id": "da70b005948e41c7bb056b483b6996b0",
       "version_major": 2,
       "version_minor": 0
      },
      "text/plain": [
       "Epoch 7100/10000:   0%|          | 0/2 [00:00<?, ?batch/s]"
      ]
     },
     "metadata": {},
     "output_type": "display_data"
    },
    {
     "name": "stdout",
     "output_type": "stream",
     "text": [
      "test_loss=0.0140\n"
     ]
    },
    {
     "data": {
      "application/vnd.jupyter.widget-view+json": {
       "model_id": "1519cb47206945beac0e3db9da1e20cb",
       "version_major": 2,
       "version_minor": 0
      },
      "text/plain": [
       "Epoch 7150/10000:   0%|          | 0/2 [00:00<?, ?batch/s]"
      ]
     },
     "metadata": {},
     "output_type": "display_data"
    },
    {
     "name": "stdout",
     "output_type": "stream",
     "text": [
      "test_loss=0.0197\n"
     ]
    },
    {
     "data": {
      "application/vnd.jupyter.widget-view+json": {
       "model_id": "61923a16ede84ab28289675f6e60aee3",
       "version_major": 2,
       "version_minor": 0
      },
      "text/plain": [
       "Epoch 7200/10000:   0%|          | 0/2 [00:00<?, ?batch/s]"
      ]
     },
     "metadata": {},
     "output_type": "display_data"
    },
    {
     "name": "stdout",
     "output_type": "stream",
     "text": [
      "test_loss=0.0257\n"
     ]
    },
    {
     "data": {
      "application/vnd.jupyter.widget-view+json": {
       "model_id": "a80d27e6c25e438aafbb86f4c195e617",
       "version_major": 2,
       "version_minor": 0
      },
      "text/plain": [
       "Epoch 7250/10000:   0%|          | 0/2 [00:00<?, ?batch/s]"
      ]
     },
     "metadata": {},
     "output_type": "display_data"
    },
    {
     "name": "stdout",
     "output_type": "stream",
     "text": [
      "test_loss=0.0097\n"
     ]
    },
    {
     "data": {
      "application/vnd.jupyter.widget-view+json": {
       "model_id": "6eb078c3204b4a9b8ea673a11e0b5b5d",
       "version_major": 2,
       "version_minor": 0
      },
      "text/plain": [
       "Epoch 7300/10000:   0%|          | 0/2 [00:00<?, ?batch/s]"
      ]
     },
     "metadata": {},
     "output_type": "display_data"
    },
    {
     "name": "stdout",
     "output_type": "stream",
     "text": [
      "test_loss=0.0629\n"
     ]
    },
    {
     "data": {
      "application/vnd.jupyter.widget-view+json": {
       "model_id": "70627ebb4d7f46d4a81bfb008180c369",
       "version_major": 2,
       "version_minor": 0
      },
      "text/plain": [
       "Epoch 7350/10000:   0%|          | 0/2 [00:00<?, ?batch/s]"
      ]
     },
     "metadata": {},
     "output_type": "display_data"
    },
    {
     "name": "stdout",
     "output_type": "stream",
     "text": [
      "test_loss=0.0139\n"
     ]
    },
    {
     "data": {
      "application/vnd.jupyter.widget-view+json": {
       "model_id": "68a11acf98c1443085c47313f66a98e7",
       "version_major": 2,
       "version_minor": 0
      },
      "text/plain": [
       "Epoch 7400/10000:   0%|          | 0/2 [00:00<?, ?batch/s]"
      ]
     },
     "metadata": {},
     "output_type": "display_data"
    },
    {
     "name": "stdout",
     "output_type": "stream",
     "text": [
      "test_loss=0.0155\n"
     ]
    },
    {
     "data": {
      "application/vnd.jupyter.widget-view+json": {
       "model_id": "1813f302499c4425b62acf76ffbfd2f4",
       "version_major": 2,
       "version_minor": 0
      },
      "text/plain": [
       "Epoch 7450/10000:   0%|          | 0/2 [00:00<?, ?batch/s]"
      ]
     },
     "metadata": {},
     "output_type": "display_data"
    },
    {
     "name": "stdout",
     "output_type": "stream",
     "text": [
      "test_loss=0.0130\n"
     ]
    },
    {
     "data": {
      "application/vnd.jupyter.widget-view+json": {
       "model_id": "2132c6f0db3f452796b08e5114f86568",
       "version_major": 2,
       "version_minor": 0
      },
      "text/plain": [
       "Epoch 7500/10000:   0%|          | 0/2 [00:00<?, ?batch/s]"
      ]
     },
     "metadata": {},
     "output_type": "display_data"
    },
    {
     "name": "stdout",
     "output_type": "stream",
     "text": [
      "test_loss=0.0241\n"
     ]
    },
    {
     "data": {
      "application/vnd.jupyter.widget-view+json": {
       "model_id": "377b4d121fdf4c058eedd4d097f060d2",
       "version_major": 2,
       "version_minor": 0
      },
      "text/plain": [
       "Epoch 7550/10000:   0%|          | 0/2 [00:00<?, ?batch/s]"
      ]
     },
     "metadata": {},
     "output_type": "display_data"
    },
    {
     "name": "stdout",
     "output_type": "stream",
     "text": [
      "test_loss=0.0110\n"
     ]
    },
    {
     "data": {
      "application/vnd.jupyter.widget-view+json": {
       "model_id": "35ef8b95f1bc40b7bd6cc86c89b6b681",
       "version_major": 2,
       "version_minor": 0
      },
      "text/plain": [
       "Epoch 7600/10000:   0%|          | 0/2 [00:00<?, ?batch/s]"
      ]
     },
     "metadata": {},
     "output_type": "display_data"
    },
    {
     "name": "stdout",
     "output_type": "stream",
     "text": [
      "test_loss=0.0452\n"
     ]
    },
    {
     "data": {
      "application/vnd.jupyter.widget-view+json": {
       "model_id": "c58c177f533b4906b4a3c1ba73b8987b",
       "version_major": 2,
       "version_minor": 0
      },
      "text/plain": [
       "Epoch 7650/10000:   0%|          | 0/2 [00:00<?, ?batch/s]"
      ]
     },
     "metadata": {},
     "output_type": "display_data"
    },
    {
     "name": "stdout",
     "output_type": "stream",
     "text": [
      "test_loss=0.0105\n"
     ]
    },
    {
     "data": {
      "application/vnd.jupyter.widget-view+json": {
       "model_id": "7ace05fb2cfb4151ac01e91351ab764b",
       "version_major": 2,
       "version_minor": 0
      },
      "text/plain": [
       "Epoch 7700/10000:   0%|          | 0/2 [00:00<?, ?batch/s]"
      ]
     },
     "metadata": {},
     "output_type": "display_data"
    },
    {
     "name": "stdout",
     "output_type": "stream",
     "text": [
      "test_loss=0.0226\n"
     ]
    },
    {
     "data": {
      "application/vnd.jupyter.widget-view+json": {
       "model_id": "05c08c0a1ec846f58704f1d21ec4cb1d",
       "version_major": 2,
       "version_minor": 0
      },
      "text/plain": [
       "Epoch 7750/10000:   0%|          | 0/2 [00:00<?, ?batch/s]"
      ]
     },
     "metadata": {},
     "output_type": "display_data"
    },
    {
     "name": "stdout",
     "output_type": "stream",
     "text": [
      "test_loss=0.0165\n"
     ]
    },
    {
     "data": {
      "application/vnd.jupyter.widget-view+json": {
       "model_id": "ad31170deb2b44ddb90a09de5deb3130",
       "version_major": 2,
       "version_minor": 0
      },
      "text/plain": [
       "Epoch 7800/10000:   0%|          | 0/2 [00:00<?, ?batch/s]"
      ]
     },
     "metadata": {},
     "output_type": "display_data"
    },
    {
     "name": "stdout",
     "output_type": "stream",
     "text": [
      "test_loss=0.0140\n"
     ]
    },
    {
     "data": {
      "application/vnd.jupyter.widget-view+json": {
       "model_id": "9784b998ed8a4bae9b1b0657828c1918",
       "version_major": 2,
       "version_minor": 0
      },
      "text/plain": [
       "Epoch 7850/10000:   0%|          | 0/2 [00:00<?, ?batch/s]"
      ]
     },
     "metadata": {},
     "output_type": "display_data"
    },
    {
     "name": "stdout",
     "output_type": "stream",
     "text": [
      "test_loss=0.0214\n"
     ]
    },
    {
     "data": {
      "application/vnd.jupyter.widget-view+json": {
       "model_id": "114e1087704e4445b1ee55237f417654",
       "version_major": 2,
       "version_minor": 0
      },
      "text/plain": [
       "Epoch 7900/10000:   0%|          | 0/2 [00:00<?, ?batch/s]"
      ]
     },
     "metadata": {},
     "output_type": "display_data"
    },
    {
     "name": "stdout",
     "output_type": "stream",
     "text": [
      "test_loss=0.0162\n"
     ]
    },
    {
     "data": {
      "application/vnd.jupyter.widget-view+json": {
       "model_id": "b7e43f6ef1d24288a4d3dbabe57b4a5b",
       "version_major": 2,
       "version_minor": 0
      },
      "text/plain": [
       "Epoch 7950/10000:   0%|          | 0/2 [00:00<?, ?batch/s]"
      ]
     },
     "metadata": {},
     "output_type": "display_data"
    },
    {
     "name": "stdout",
     "output_type": "stream",
     "text": [
      "test_loss=0.0297\n"
     ]
    },
    {
     "data": {
      "application/vnd.jupyter.widget-view+json": {
       "model_id": "1febecb676e841448a917ef49e90816c",
       "version_major": 2,
       "version_minor": 0
      },
      "text/plain": [
       "Epoch 8000/10000:   0%|          | 0/2 [00:00<?, ?batch/s]"
      ]
     },
     "metadata": {},
     "output_type": "display_data"
    },
    {
     "name": "stdout",
     "output_type": "stream",
     "text": [
      "test_loss=0.0423\n"
     ]
    },
    {
     "data": {
      "application/vnd.jupyter.widget-view+json": {
       "model_id": "d702405a854e4d97a513f0db37ea845b",
       "version_major": 2,
       "version_minor": 0
      },
      "text/plain": [
       "Epoch 8050/10000:   0%|          | 0/2 [00:00<?, ?batch/s]"
      ]
     },
     "metadata": {},
     "output_type": "display_data"
    },
    {
     "name": "stdout",
     "output_type": "stream",
     "text": [
      "test_loss=0.0156\n"
     ]
    },
    {
     "data": {
      "application/vnd.jupyter.widget-view+json": {
       "model_id": "4e13207846964c458e4effa929bcfe23",
       "version_major": 2,
       "version_minor": 0
      },
      "text/plain": [
       "Epoch 8100/10000:   0%|          | 0/2 [00:00<?, ?batch/s]"
      ]
     },
     "metadata": {},
     "output_type": "display_data"
    },
    {
     "name": "stdout",
     "output_type": "stream",
     "text": [
      "test_loss=0.0119\n"
     ]
    },
    {
     "data": {
      "application/vnd.jupyter.widget-view+json": {
       "model_id": "e70de0aa66f84d528180461776b48476",
       "version_major": 2,
       "version_minor": 0
      },
      "text/plain": [
       "Epoch 8150/10000:   0%|          | 0/2 [00:00<?, ?batch/s]"
      ]
     },
     "metadata": {},
     "output_type": "display_data"
    },
    {
     "name": "stdout",
     "output_type": "stream",
     "text": [
      "test_loss=0.0126\n"
     ]
    },
    {
     "data": {
      "application/vnd.jupyter.widget-view+json": {
       "model_id": "18e3c634c7004882845b802eceffe282",
       "version_major": 2,
       "version_minor": 0
      },
      "text/plain": [
       "Epoch 8200/10000:   0%|          | 0/2 [00:00<?, ?batch/s]"
      ]
     },
     "metadata": {},
     "output_type": "display_data"
    },
    {
     "name": "stdout",
     "output_type": "stream",
     "text": [
      "test_loss=0.0083\n"
     ]
    },
    {
     "data": {
      "application/vnd.jupyter.widget-view+json": {
       "model_id": "584609717b144f7a890138b54b174a47",
       "version_major": 2,
       "version_minor": 0
      },
      "text/plain": [
       "Epoch 8250/10000:   0%|          | 0/2 [00:00<?, ?batch/s]"
      ]
     },
     "metadata": {},
     "output_type": "display_data"
    },
    {
     "name": "stdout",
     "output_type": "stream",
     "text": [
      "test_loss=0.0236\n"
     ]
    },
    {
     "data": {
      "application/vnd.jupyter.widget-view+json": {
       "model_id": "07562220125c429890e09000077ad3bc",
       "version_major": 2,
       "version_minor": 0
      },
      "text/plain": [
       "Epoch 8300/10000:   0%|          | 0/2 [00:00<?, ?batch/s]"
      ]
     },
     "metadata": {},
     "output_type": "display_data"
    },
    {
     "name": "stdout",
     "output_type": "stream",
     "text": [
      "test_loss=0.0099\n"
     ]
    },
    {
     "data": {
      "application/vnd.jupyter.widget-view+json": {
       "model_id": "ae81b506d5b94780ab81138caf7f32a6",
       "version_major": 2,
       "version_minor": 0
      },
      "text/plain": [
       "Epoch 8350/10000:   0%|          | 0/2 [00:00<?, ?batch/s]"
      ]
     },
     "metadata": {},
     "output_type": "display_data"
    },
    {
     "name": "stdout",
     "output_type": "stream",
     "text": [
      "test_loss=0.0156\n"
     ]
    },
    {
     "data": {
      "application/vnd.jupyter.widget-view+json": {
       "model_id": "e6441080e62746558f3e291816865d17",
       "version_major": 2,
       "version_minor": 0
      },
      "text/plain": [
       "Epoch 8400/10000:   0%|          | 0/2 [00:00<?, ?batch/s]"
      ]
     },
     "metadata": {},
     "output_type": "display_data"
    },
    {
     "name": "stdout",
     "output_type": "stream",
     "text": [
      "test_loss=0.0149\n"
     ]
    },
    {
     "data": {
      "application/vnd.jupyter.widget-view+json": {
       "model_id": "acaff1b6245c475c9a9f62f2de6e7215",
       "version_major": 2,
       "version_minor": 0
      },
      "text/plain": [
       "Epoch 8450/10000:   0%|          | 0/2 [00:00<?, ?batch/s]"
      ]
     },
     "metadata": {},
     "output_type": "display_data"
    },
    {
     "name": "stdout",
     "output_type": "stream",
     "text": [
      "test_loss=0.0130\n"
     ]
    },
    {
     "data": {
      "application/vnd.jupyter.widget-view+json": {
       "model_id": "0039fa36f6774695a3dc40f262ab90bd",
       "version_major": 2,
       "version_minor": 0
      },
      "text/plain": [
       "Epoch 8500/10000:   0%|          | 0/2 [00:00<?, ?batch/s]"
      ]
     },
     "metadata": {},
     "output_type": "display_data"
    },
    {
     "name": "stdout",
     "output_type": "stream",
     "text": [
      "test_loss=0.0186\n"
     ]
    },
    {
     "data": {
      "application/vnd.jupyter.widget-view+json": {
       "model_id": "11922bfaaf704e19af28d553e6b41a6d",
       "version_major": 2,
       "version_minor": 0
      },
      "text/plain": [
       "Epoch 8550/10000:   0%|          | 0/2 [00:00<?, ?batch/s]"
      ]
     },
     "metadata": {},
     "output_type": "display_data"
    },
    {
     "name": "stdout",
     "output_type": "stream",
     "text": [
      "test_loss=0.0241\n"
     ]
    },
    {
     "data": {
      "application/vnd.jupyter.widget-view+json": {
       "model_id": "834e1c951e14417380bb68cce4046550",
       "version_major": 2,
       "version_minor": 0
      },
      "text/plain": [
       "Epoch 8600/10000:   0%|          | 0/2 [00:00<?, ?batch/s]"
      ]
     },
     "metadata": {},
     "output_type": "display_data"
    },
    {
     "name": "stdout",
     "output_type": "stream",
     "text": [
      "test_loss=0.0194\n"
     ]
    },
    {
     "data": {
      "application/vnd.jupyter.widget-view+json": {
       "model_id": "4432b398bb9c4a158aa4305add5a7c21",
       "version_major": 2,
       "version_minor": 0
      },
      "text/plain": [
       "Epoch 8650/10000:   0%|          | 0/2 [00:00<?, ?batch/s]"
      ]
     },
     "metadata": {},
     "output_type": "display_data"
    },
    {
     "name": "stdout",
     "output_type": "stream",
     "text": [
      "test_loss=0.0138\n"
     ]
    },
    {
     "data": {
      "application/vnd.jupyter.widget-view+json": {
       "model_id": "b7666c1ad1ed42ffaf408efe77ffd95b",
       "version_major": 2,
       "version_minor": 0
      },
      "text/plain": [
       "Epoch 8700/10000:   0%|          | 0/2 [00:00<?, ?batch/s]"
      ]
     },
     "metadata": {},
     "output_type": "display_data"
    },
    {
     "name": "stdout",
     "output_type": "stream",
     "text": [
      "test_loss=0.0170\n"
     ]
    },
    {
     "data": {
      "application/vnd.jupyter.widget-view+json": {
       "model_id": "116eea255f8c4777a30b2c89aef824ee",
       "version_major": 2,
       "version_minor": 0
      },
      "text/plain": [
       "Epoch 8750/10000:   0%|          | 0/2 [00:00<?, ?batch/s]"
      ]
     },
     "metadata": {},
     "output_type": "display_data"
    },
    {
     "name": "stdout",
     "output_type": "stream",
     "text": [
      "test_loss=0.0115\n"
     ]
    },
    {
     "data": {
      "application/vnd.jupyter.widget-view+json": {
       "model_id": "8e215aaf9c504d33a0249ade36953b5b",
       "version_major": 2,
       "version_minor": 0
      },
      "text/plain": [
       "Epoch 8800/10000:   0%|          | 0/2 [00:00<?, ?batch/s]"
      ]
     },
     "metadata": {},
     "output_type": "display_data"
    },
    {
     "name": "stdout",
     "output_type": "stream",
     "text": [
      "test_loss=0.0165\n"
     ]
    },
    {
     "data": {
      "application/vnd.jupyter.widget-view+json": {
       "model_id": "8774870edcb5487bb2d9ddca7c60748d",
       "version_major": 2,
       "version_minor": 0
      },
      "text/plain": [
       "Epoch 8850/10000:   0%|          | 0/2 [00:00<?, ?batch/s]"
      ]
     },
     "metadata": {},
     "output_type": "display_data"
    },
    {
     "name": "stdout",
     "output_type": "stream",
     "text": [
      "test_loss=0.0181\n"
     ]
    },
    {
     "data": {
      "application/vnd.jupyter.widget-view+json": {
       "model_id": "4be320b051b247879817cbe180548c75",
       "version_major": 2,
       "version_minor": 0
      },
      "text/plain": [
       "Epoch 8900/10000:   0%|          | 0/2 [00:00<?, ?batch/s]"
      ]
     },
     "metadata": {},
     "output_type": "display_data"
    },
    {
     "name": "stdout",
     "output_type": "stream",
     "text": [
      "test_loss=0.0162\n"
     ]
    },
    {
     "data": {
      "application/vnd.jupyter.widget-view+json": {
       "model_id": "2c3949f2b14746d9b55969db65cedb00",
       "version_major": 2,
       "version_minor": 0
      },
      "text/plain": [
       "Epoch 8950/10000:   0%|          | 0/2 [00:00<?, ?batch/s]"
      ]
     },
     "metadata": {},
     "output_type": "display_data"
    },
    {
     "name": "stdout",
     "output_type": "stream",
     "text": [
      "test_loss=0.0184\n"
     ]
    },
    {
     "data": {
      "application/vnd.jupyter.widget-view+json": {
       "model_id": "41f01e40413f4aeaaa46996e30b7f181",
       "version_major": 2,
       "version_minor": 0
      },
      "text/plain": [
       "Epoch 9000/10000:   0%|          | 0/2 [00:00<?, ?batch/s]"
      ]
     },
     "metadata": {},
     "output_type": "display_data"
    },
    {
     "name": "stdout",
     "output_type": "stream",
     "text": [
      "test_loss=0.0070\n"
     ]
    },
    {
     "data": {
      "application/vnd.jupyter.widget-view+json": {
       "model_id": "58cafa48ea4f4d7096f0a4742d8fce58",
       "version_major": 2,
       "version_minor": 0
      },
      "text/plain": [
       "Epoch 9050/10000:   0%|          | 0/2 [00:00<?, ?batch/s]"
      ]
     },
     "metadata": {},
     "output_type": "display_data"
    },
    {
     "name": "stdout",
     "output_type": "stream",
     "text": [
      "test_loss=0.0259\n"
     ]
    },
    {
     "data": {
      "application/vnd.jupyter.widget-view+json": {
       "model_id": "bb7d480e43324f72b7dca62f764cc646",
       "version_major": 2,
       "version_minor": 0
      },
      "text/plain": [
       "Epoch 9100/10000:   0%|          | 0/2 [00:00<?, ?batch/s]"
      ]
     },
     "metadata": {},
     "output_type": "display_data"
    },
    {
     "name": "stdout",
     "output_type": "stream",
     "text": [
      "test_loss=0.0119\n"
     ]
    },
    {
     "data": {
      "application/vnd.jupyter.widget-view+json": {
       "model_id": "3d9d400ab1bc46b2a7b06975fd2f3d64",
       "version_major": 2,
       "version_minor": 0
      },
      "text/plain": [
       "Epoch 9150/10000:   0%|          | 0/2 [00:00<?, ?batch/s]"
      ]
     },
     "metadata": {},
     "output_type": "display_data"
    },
    {
     "name": "stdout",
     "output_type": "stream",
     "text": [
      "test_loss=0.0093\n"
     ]
    },
    {
     "data": {
      "application/vnd.jupyter.widget-view+json": {
       "model_id": "d5203eac145044948403095800d3a1d1",
       "version_major": 2,
       "version_minor": 0
      },
      "text/plain": [
       "Epoch 9200/10000:   0%|          | 0/2 [00:00<?, ?batch/s]"
      ]
     },
     "metadata": {},
     "output_type": "display_data"
    },
    {
     "name": "stdout",
     "output_type": "stream",
     "text": [
      "test_loss=0.0274\n"
     ]
    },
    {
     "data": {
      "application/vnd.jupyter.widget-view+json": {
       "model_id": "c8ae38fc08c5498ba608c7e1d876117b",
       "version_major": 2,
       "version_minor": 0
      },
      "text/plain": [
       "Epoch 9250/10000:   0%|          | 0/2 [00:00<?, ?batch/s]"
      ]
     },
     "metadata": {},
     "output_type": "display_data"
    },
    {
     "name": "stdout",
     "output_type": "stream",
     "text": [
      "test_loss=0.0105\n"
     ]
    },
    {
     "data": {
      "application/vnd.jupyter.widget-view+json": {
       "model_id": "f4f870668bd34cbb9005da2a4b6a2b78",
       "version_major": 2,
       "version_minor": 0
      },
      "text/plain": [
       "Epoch 9300/10000:   0%|          | 0/2 [00:00<?, ?batch/s]"
      ]
     },
     "metadata": {},
     "output_type": "display_data"
    },
    {
     "name": "stdout",
     "output_type": "stream",
     "text": [
      "test_loss=0.0165\n"
     ]
    },
    {
     "data": {
      "application/vnd.jupyter.widget-view+json": {
       "model_id": "f151e0b67f3e424a90a54cbd678d0379",
       "version_major": 2,
       "version_minor": 0
      },
      "text/plain": [
       "Epoch 9350/10000:   0%|          | 0/2 [00:00<?, ?batch/s]"
      ]
     },
     "metadata": {},
     "output_type": "display_data"
    },
    {
     "name": "stdout",
     "output_type": "stream",
     "text": [
      "test_loss=0.0100\n"
     ]
    },
    {
     "data": {
      "application/vnd.jupyter.widget-view+json": {
       "model_id": "c49cba94b5f44c9d81d662915a5ff788",
       "version_major": 2,
       "version_minor": 0
      },
      "text/plain": [
       "Epoch 9400/10000:   0%|          | 0/2 [00:00<?, ?batch/s]"
      ]
     },
     "metadata": {},
     "output_type": "display_data"
    },
    {
     "name": "stdout",
     "output_type": "stream",
     "text": [
      "test_loss=0.0248\n"
     ]
    },
    {
     "data": {
      "application/vnd.jupyter.widget-view+json": {
       "model_id": "86561d77ca2b47d4a67a7426a1a8b477",
       "version_major": 2,
       "version_minor": 0
      },
      "text/plain": [
       "Epoch 9450/10000:   0%|          | 0/2 [00:00<?, ?batch/s]"
      ]
     },
     "metadata": {},
     "output_type": "display_data"
    },
    {
     "name": "stdout",
     "output_type": "stream",
     "text": [
      "test_loss=0.0101\n"
     ]
    },
    {
     "data": {
      "application/vnd.jupyter.widget-view+json": {
       "model_id": "a85a05ea640e41bba3bf12711288323d",
       "version_major": 2,
       "version_minor": 0
      },
      "text/plain": [
       "Epoch 9500/10000:   0%|          | 0/2 [00:00<?, ?batch/s]"
      ]
     },
     "metadata": {},
     "output_type": "display_data"
    },
    {
     "name": "stdout",
     "output_type": "stream",
     "text": [
      "test_loss=0.0078\n"
     ]
    },
    {
     "data": {
      "application/vnd.jupyter.widget-view+json": {
       "model_id": "f7a7b59afc4a41e8abc4cc34df8b7aee",
       "version_major": 2,
       "version_minor": 0
      },
      "text/plain": [
       "Epoch 9550/10000:   0%|          | 0/2 [00:00<?, ?batch/s]"
      ]
     },
     "metadata": {},
     "output_type": "display_data"
    },
    {
     "name": "stdout",
     "output_type": "stream",
     "text": [
      "test_loss=0.0129\n"
     ]
    },
    {
     "data": {
      "application/vnd.jupyter.widget-view+json": {
       "model_id": "a74edb458667486c9650d0ab7f36aa5d",
       "version_major": 2,
       "version_minor": 0
      },
      "text/plain": [
       "Epoch 9600/10000:   0%|          | 0/2 [00:00<?, ?batch/s]"
      ]
     },
     "metadata": {},
     "output_type": "display_data"
    },
    {
     "name": "stdout",
     "output_type": "stream",
     "text": [
      "test_loss=0.0138\n"
     ]
    },
    {
     "data": {
      "application/vnd.jupyter.widget-view+json": {
       "model_id": "d46125c6d189420f81d2cf9da9deecb3",
       "version_major": 2,
       "version_minor": 0
      },
      "text/plain": [
       "Epoch 9650/10000:   0%|          | 0/2 [00:00<?, ?batch/s]"
      ]
     },
     "metadata": {},
     "output_type": "display_data"
    },
    {
     "name": "stdout",
     "output_type": "stream",
     "text": [
      "test_loss=0.0153\n"
     ]
    },
    {
     "data": {
      "application/vnd.jupyter.widget-view+json": {
       "model_id": "e87e9a3b8fbf45c18a31cdb5f76127e8",
       "version_major": 2,
       "version_minor": 0
      },
      "text/plain": [
       "Epoch 9700/10000:   0%|          | 0/2 [00:00<?, ?batch/s]"
      ]
     },
     "metadata": {},
     "output_type": "display_data"
    },
    {
     "name": "stdout",
     "output_type": "stream",
     "text": [
      "test_loss=0.0096\n"
     ]
    },
    {
     "data": {
      "application/vnd.jupyter.widget-view+json": {
       "model_id": "e6a9c2c13a8f488ab36d3cfc0345cae2",
       "version_major": 2,
       "version_minor": 0
      },
      "text/plain": [
       "Epoch 9750/10000:   0%|          | 0/2 [00:00<?, ?batch/s]"
      ]
     },
     "metadata": {},
     "output_type": "display_data"
    },
    {
     "name": "stdout",
     "output_type": "stream",
     "text": [
      "test_loss=0.0164\n"
     ]
    },
    {
     "data": {
      "application/vnd.jupyter.widget-view+json": {
       "model_id": "c5dea9cae16146bea6cdef202330c053",
       "version_major": 2,
       "version_minor": 0
      },
      "text/plain": [
       "Epoch 9800/10000:   0%|          | 0/2 [00:00<?, ?batch/s]"
      ]
     },
     "metadata": {},
     "output_type": "display_data"
    },
    {
     "name": "stdout",
     "output_type": "stream",
     "text": [
      "test_loss=0.0121\n"
     ]
    },
    {
     "data": {
      "application/vnd.jupyter.widget-view+json": {
       "model_id": "23c69bfa4b2a4eb382b0bdbce5dd2b57",
       "version_major": 2,
       "version_minor": 0
      },
      "text/plain": [
       "Epoch 9850/10000:   0%|          | 0/2 [00:00<?, ?batch/s]"
      ]
     },
     "metadata": {},
     "output_type": "display_data"
    },
    {
     "name": "stdout",
     "output_type": "stream",
     "text": [
      "test_loss=0.0115\n"
     ]
    },
    {
     "data": {
      "application/vnd.jupyter.widget-view+json": {
       "model_id": "f69233028e4d40aa9ba08419dabd6f79",
       "version_major": 2,
       "version_minor": 0
      },
      "text/plain": [
       "Epoch 9900/10000:   0%|          | 0/2 [00:00<?, ?batch/s]"
      ]
     },
     "metadata": {},
     "output_type": "display_data"
    },
    {
     "name": "stdout",
     "output_type": "stream",
     "text": [
      "test_loss=0.0092\n"
     ]
    },
    {
     "data": {
      "application/vnd.jupyter.widget-view+json": {
       "model_id": "b0047fd844fa44f3bccb7e4b59e1d2a8",
       "version_major": 2,
       "version_minor": 0
      },
      "text/plain": [
       "Epoch 9950/10000:   0%|          | 0/2 [00:00<?, ?batch/s]"
      ]
     },
     "metadata": {},
     "output_type": "display_data"
    },
    {
     "name": "stdout",
     "output_type": "stream",
     "text": [
      "test_loss=0.0097\n"
     ]
    }
   ],
   "source": [
    "epochs = 10000\n",
    "show_gap = 50\n",
    "update_gap = 1\n",
    "for i in range(epochs):\n",
    "    train_loop(train_dataloader, mlp, loss_fn, optimizer, epochs, i, show_gap, update_gap)\n",
    "    test_loop(test_dataloader, mlp, loss_fn, i, show_gap)"
   ]
  },
  {
   "cell_type": "markdown",
   "metadata": {},
   "source": [
    "---\n",
    "## 看一下模型拟合的效果"
   ]
  },
  {
   "cell_type": "markdown",
   "metadata": {},
   "source": [
    "#### 训练集 "
   ]
  },
  {
   "cell_type": "code",
   "execution_count": 22,
   "metadata": {},
   "outputs": [
    {
     "name": "stdout",
     "output_type": "stream",
     "text": [
      "(80, 1)\n"
     ]
    }
   ],
   "source": [
    "with no_grad():\n",
    "    temp = Tensor(x_feature[:train_sample_num])\n",
    "    y_pred = mlp(temp)\n",
    "    print(y_pred.data.shape)"
   ]
  },
  {
   "cell_type": "code",
   "execution_count": 23,
   "metadata": {},
   "outputs": [
    {
     "data": {
      "text/plain": [
       "<matplotlib.collections.PathCollection at 0x15f3e4ad640>"
      ]
     },
     "execution_count": 23,
     "metadata": {},
     "output_type": "execute_result"
    },
    {
     "data": {
      "image/png": "[encoded data removed]",
      "text/plain": [
       "<Figure size 432x288 with 1 Axes>"
      ]
     },
     "metadata": {
      "needs_background": "light"
     },
     "output_type": "display_data"
    }
   ],
   "source": [
    "plt.scatter(x[:train_sample_num], y[:train_sample_num], c='b')\n",
    "plt.scatter(x[:train_sample_num], y_pred.data, c='r', linewidths=0.1)"
   ]
  },
  {
   "cell_type": "markdown",
   "metadata": {},
   "source": [
    "#### 测试集"
   ]
  },
  {
   "cell_type": "code",
   "execution_count": 24,
   "metadata": {},
   "outputs": [
    {
     "name": "stdout",
     "output_type": "stream",
     "text": [
      "(20, 1)\n"
     ]
    }
   ],
   "source": [
    "with no_grad():\n",
    "    temp = Tensor(x_feature[train_sample_num:])\n",
    "    y_pred = mlp(temp)\n",
    "    print(y_pred.data.shape)"
   ]
  },
  {
   "cell_type": "code",
   "execution_count": 25,
   "metadata": {},
   "outputs": [
    {
     "data": {
      "text/plain": [
       "<matplotlib.collections.PathCollection at 0x15f3e515c10>"
      ]
     },
     "execution_count": 25,
     "metadata": {},
     "output_type": "execute_result"
    },
    {
     "data": {
      "image/png": "[encoded data removed]",
      "text/plain": [
       "<Figure size 432x288 with 1 Axes>"
      ]
     },
     "metadata": {
      "needs_background": "light"
     },
     "output_type": "display_data"
    }
   ],
   "source": [
    "plt.scatter(x[train_sample_num:], y[train_sample_num:], c='b')\n",
    "plt.scatter(x[train_sample_num:], y_pred.data, c='r', linewidths=0.1)"
   ]
  }
 ],
 "metadata": {
  "interpreter": {
   "hash": "6493ed4e372427c4b662df94edd71485b8ef8c9481bf9911e779218f9df701ab"
  },
  "kernelspec": {
   "display_name": "Python 3.8.12 64-bit ('pytorch110': conda)",
   "language": "python",
   "name": "python3"
  },
  "language_info": {
   "codemirror_mode": {
    "name": "ipython",
    "version": 3
   },
   "file_extension": ".py",
   "mimetype": "text/x-python",
   "name": "python",
   "nbconvert_exporter": "python",
   "pygments_lexer": "ipython3",
   "version": "3.8.12"
  },
  "orig_nbformat": 4
 },
 "nbformat": 4,
 "nbformat_minor": 2
}
